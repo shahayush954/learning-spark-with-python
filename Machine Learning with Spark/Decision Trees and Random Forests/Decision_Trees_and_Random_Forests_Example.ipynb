{
 "cells": [
  {
   "cell_type": "markdown",
   "id": "b29f70a3-f814-491a-8a59-a75124cb7bed",
   "metadata": {},
   "source": [
    "## Initializing Spark Environment and Loading Data"
   ]
  },
  {
   "cell_type": "code",
   "execution_count": 1,
   "id": "85891dfa-da02-4797-9dc2-205a33534038",
   "metadata": {},
   "outputs": [],
   "source": [
    "import findspark\n",
    "findspark.init('/home/shahayush954/spark-3.4.1-bin-hadoop3')"
   ]
  },
  {
   "cell_type": "code",
   "execution_count": 2,
   "id": "567afff6-e847-4ef9-a527-3367d12b8c3f",
   "metadata": {},
   "outputs": [
    {
     "name": "stderr",
     "output_type": "stream",
     "text": [
      "23/08/19 18:57:09 WARN Utils: Your hostname, ubuntu-22 resolves to a loopback address: 127.0.1.1; using 10.0.2.15 instead (on interface enp0s3)\n",
      "23/08/19 18:57:09 WARN Utils: Set SPARK_LOCAL_IP if you need to bind to another address\n",
      "Setting default log level to \"WARN\".\n",
      "To adjust logging level use sc.setLogLevel(newLevel). For SparkR, use setLogLevel(newLevel).\n",
      "23/08/19 18:57:12 WARN NativeCodeLoader: Unable to load native-hadoop library for your platform... using builtin-java classes where applicable\n",
      "23/08/19 18:57:14 WARN Utils: Service 'SparkUI' could not bind on port 4040. Attempting port 4041.\n"
     ]
    }
   ],
   "source": [
    "from pyspark.sql import SparkSession\n",
    "spark = SparkSession.builder.appName('trees').getOrCreate()"
   ]
  },
  {
   "cell_type": "code",
   "execution_count": 3,
   "id": "f8605c58-2fa4-4eb4-a7fb-e1607d7acd1c",
   "metadata": {},
   "outputs": [
    {
     "name": "stderr",
     "output_type": "stream",
     "text": [
      "                                                                                \r"
     ]
    }
   ],
   "source": [
    "data = spark.read.csv('College.csv', header=True, inferSchema=True)"
   ]
  },
  {
   "cell_type": "code",
   "execution_count": 4,
   "id": "02860244-79ad-4e09-9ad4-98290edfbb35",
   "metadata": {},
   "outputs": [
    {
     "name": "stdout",
     "output_type": "stream",
     "text": [
      "root\n",
      " |-- School: string (nullable = true)\n",
      " |-- Private: string (nullable = true)\n",
      " |-- Apps: integer (nullable = true)\n",
      " |-- Accept: integer (nullable = true)\n",
      " |-- Enroll: integer (nullable = true)\n",
      " |-- Top10perc: integer (nullable = true)\n",
      " |-- Top25perc: integer (nullable = true)\n",
      " |-- F_Undergrad: integer (nullable = true)\n",
      " |-- P_Undergrad: integer (nullable = true)\n",
      " |-- Outstate: integer (nullable = true)\n",
      " |-- Room_Board: integer (nullable = true)\n",
      " |-- Books: integer (nullable = true)\n",
      " |-- Personal: integer (nullable = true)\n",
      " |-- PhD: integer (nullable = true)\n",
      " |-- Terminal: integer (nullable = true)\n",
      " |-- S_F_Ratio: double (nullable = true)\n",
      " |-- perc_alumni: integer (nullable = true)\n",
      " |-- Expend: integer (nullable = true)\n",
      " |-- Grad_Rate: integer (nullable = true)\n",
      "\n"
     ]
    }
   ],
   "source": [
    "data.printSchema()"
   ]
  },
  {
   "cell_type": "markdown",
   "id": "840f06dd-498c-41bf-b003-e7d2416e2b65",
   "metadata": {},
   "source": [
    "## Data Preparation and Transformation"
   ]
  },
  {
   "cell_type": "code",
   "execution_count": 5,
   "id": "c820cf5d-9fad-458d-a538-6be53df64a9b",
   "metadata": {},
   "outputs": [],
   "source": [
    "from pyspark.ml.feature import VectorAssembler"
   ]
  },
  {
   "cell_type": "code",
   "execution_count": 6,
   "id": "07474587-6780-4d5a-b0de-2dd744a33e3f",
   "metadata": {},
   "outputs": [
    {
     "data": {
      "text/plain": [
       "['School',\n",
       " 'Private',\n",
       " 'Apps',\n",
       " 'Accept',\n",
       " 'Enroll',\n",
       " 'Top10perc',\n",
       " 'Top25perc',\n",
       " 'F_Undergrad',\n",
       " 'P_Undergrad',\n",
       " 'Outstate',\n",
       " 'Room_Board',\n",
       " 'Books',\n",
       " 'Personal',\n",
       " 'PhD',\n",
       " 'Terminal',\n",
       " 'S_F_Ratio',\n",
       " 'perc_alumni',\n",
       " 'Expend',\n",
       " 'Grad_Rate']"
      ]
     },
     "execution_count": 6,
     "metadata": {},
     "output_type": "execute_result"
    }
   ],
   "source": [
    "data.columns"
   ]
  },
  {
   "cell_type": "code",
   "execution_count": 7,
   "id": "f19ca4ed-c143-4e51-a1a3-3831e1e41598",
   "metadata": {},
   "outputs": [],
   "source": [
    "assembler = VectorAssembler(inputCols=['Apps','Accept','Enroll',\n",
    "                                       'Top10perc','Top25perc','F_Undergrad',\n",
    "                                       'P_Undergrad','Outstate','Room_Board',\n",
    "                                       'Books','Personal','PhD',\n",
    "                                       'Terminal','S_F_Ratio','perc_alumni',\n",
    "                                       'Expend','Grad_Rate'], outputCol='features')"
   ]
  },
  {
   "cell_type": "code",
   "execution_count": 8,
   "id": "7efa01fe-b83b-4e8c-bbdc-894336754cba",
   "metadata": {},
   "outputs": [],
   "source": [
    "feature_data = assembler.transform(data)"
   ]
  },
  {
   "cell_type": "code",
   "execution_count": 9,
   "id": "f1ff8210-245e-44e0-8735-b76bf5ad6c77",
   "metadata": {},
   "outputs": [],
   "source": [
    "from pyspark.ml.feature import StringIndexer\n",
    "stringIndexer = StringIndexer(inputCol='Private', outputCol='PrivateIndex')"
   ]
  },
  {
   "cell_type": "code",
   "execution_count": 10,
   "id": "80838857-aa27-4384-a66d-e06978766d10",
   "metadata": {},
   "outputs": [
    {
     "name": "stderr",
     "output_type": "stream",
     "text": [
      "                                                                                \r"
     ]
    }
   ],
   "source": [
    "feature_data = stringIndexer.fit(feature_data).transform(feature_data)"
   ]
  },
  {
   "cell_type": "code",
   "execution_count": 11,
   "id": "b48eafd2-88e2-4486-bcd7-12aadb38b076",
   "metadata": {},
   "outputs": [
    {
     "name": "stdout",
     "output_type": "stream",
     "text": [
      "root\n",
      " |-- School: string (nullable = true)\n",
      " |-- Private: string (nullable = true)\n",
      " |-- Apps: integer (nullable = true)\n",
      " |-- Accept: integer (nullable = true)\n",
      " |-- Enroll: integer (nullable = true)\n",
      " |-- Top10perc: integer (nullable = true)\n",
      " |-- Top25perc: integer (nullable = true)\n",
      " |-- F_Undergrad: integer (nullable = true)\n",
      " |-- P_Undergrad: integer (nullable = true)\n",
      " |-- Outstate: integer (nullable = true)\n",
      " |-- Room_Board: integer (nullable = true)\n",
      " |-- Books: integer (nullable = true)\n",
      " |-- Personal: integer (nullable = true)\n",
      " |-- PhD: integer (nullable = true)\n",
      " |-- Terminal: integer (nullable = true)\n",
      " |-- S_F_Ratio: double (nullable = true)\n",
      " |-- perc_alumni: integer (nullable = true)\n",
      " |-- Expend: integer (nullable = true)\n",
      " |-- Grad_Rate: integer (nullable = true)\n",
      " |-- features: vector (nullable = true)\n",
      " |-- PrivateIndex: double (nullable = false)\n",
      "\n"
     ]
    }
   ],
   "source": [
    "feature_data.printSchema()"
   ]
  },
  {
   "cell_type": "code",
   "execution_count": 12,
   "id": "f1409d3b-dfb1-42a1-be03-48925297093c",
   "metadata": {},
   "outputs": [],
   "source": [
    "final_data = feature_data.select(['features', 'PrivateIndex'])"
   ]
  },
  {
   "cell_type": "code",
   "execution_count": 13,
   "id": "f4d5a05a-cc47-448a-8904-b8a3c14ff5fd",
   "metadata": {},
   "outputs": [],
   "source": [
    "train_data, test_data = final_data.randomSplit([0.7,0.3])"
   ]
  },
  {
   "cell_type": "markdown",
   "id": "7644c768-7d18-42e5-9276-eaeee668e15d",
   "metadata": {},
   "source": [
    "## Decision Trees"
   ]
  },
  {
   "cell_type": "code",
   "execution_count": 14,
   "id": "dcd2c260-590d-4356-a85a-bb1e62f85791",
   "metadata": {},
   "outputs": [],
   "source": [
    "from pyspark.ml.classification import DecisionTreeClassifier"
   ]
  },
  {
   "cell_type": "code",
   "execution_count": 16,
   "id": "bcec75c4-d574-49d5-b33c-e5043cc0d77d",
   "metadata": {},
   "outputs": [],
   "source": [
    "dtc = DecisionTreeClassifier(labelCol='PrivateIndex', featuresCol='features')"
   ]
  },
  {
   "cell_type": "code",
   "execution_count": 17,
   "id": "003c88bd-b686-41b9-b740-b79ff5ed2041",
   "metadata": {},
   "outputs": [
    {
     "name": "stderr",
     "output_type": "stream",
     "text": [
      "                                                                                \r"
     ]
    }
   ],
   "source": [
    "dtc_model = dtc.fit(train_data)"
   ]
  },
  {
   "cell_type": "code",
   "execution_count": 18,
   "id": "e0cec295-69c2-4564-9a7d-66a7f14a2a9d",
   "metadata": {},
   "outputs": [],
   "source": [
    "dtc_predictions = dtc_model.transform(test_data)"
   ]
  },
  {
   "cell_type": "markdown",
   "id": "30b70f6f-bc05-40b5-b17a-9453123a639e",
   "metadata": {},
   "source": [
    "## Random Forests"
   ]
  },
  {
   "cell_type": "code",
   "execution_count": 19,
   "id": "a52624cf-7f41-4a01-94c2-1cc8fac5545e",
   "metadata": {},
   "outputs": [],
   "source": [
    "from pyspark.ml.classification import RandomForestClassifier"
   ]
  },
  {
   "cell_type": "code",
   "execution_count": 20,
   "id": "4c8d0189-ccdc-475b-9c95-5fa54a267263",
   "metadata": {},
   "outputs": [],
   "source": [
    "rfc = RandomForestClassifier(labelCol='PrivateIndex', featuresCol='features')"
   ]
  },
  {
   "cell_type": "code",
   "execution_count": 21,
   "id": "5a51a8c6-6f52-477b-a661-a913e10664f9",
   "metadata": {},
   "outputs": [
    {
     "name": "stderr",
     "output_type": "stream",
     "text": [
      "                                                                                \r"
     ]
    }
   ],
   "source": [
    "rfc_model = rfc.fit(train_data)"
   ]
  },
  {
   "cell_type": "code",
   "execution_count": 22,
   "id": "ff9fac9a-7845-457e-b41c-621ea1703d51",
   "metadata": {},
   "outputs": [],
   "source": [
    "rfc_predictions = rfc_model.transform(test_data)"
   ]
  },
  {
   "cell_type": "markdown",
   "id": "f8fe6730-91e3-46f3-a5ae-4b30294bb3f9",
   "metadata": {},
   "source": [
    "## Gradient Boost Trees"
   ]
  },
  {
   "cell_type": "code",
   "execution_count": 23,
   "id": "8099ed34-12ea-4e84-b40d-1cfc27174a45",
   "metadata": {},
   "outputs": [],
   "source": [
    "from pyspark.ml.classification import GBTClassifier"
   ]
  },
  {
   "cell_type": "code",
   "execution_count": 24,
   "id": "e7f4f13f-6557-49cb-82b6-4748c4ee8638",
   "metadata": {},
   "outputs": [],
   "source": [
    "gbt = GBTClassifier(labelCol='PrivateIndex', featuresCol='features')"
   ]
  },
  {
   "cell_type": "code",
   "execution_count": 25,
   "id": "856d6b11-a5a7-4a28-9f8e-115016ec06e5",
   "metadata": {},
   "outputs": [],
   "source": [
    "gbt_model = gbt.fit(train_data)"
   ]
  },
  {
   "cell_type": "code",
   "execution_count": 26,
   "id": "33ed47c9-74a2-4fea-9d9d-e62e6d08430b",
   "metadata": {},
   "outputs": [],
   "source": [
    "gbt_predictions = gbt_model.transform(test_data)"
   ]
  },
  {
   "cell_type": "markdown",
   "id": "a39a467a-8ce4-49d1-bc34-f5a6516de315",
   "metadata": {},
   "source": [
    "## Evaluate Performance"
   ]
  },
  {
   "cell_type": "code",
   "execution_count": 27,
   "id": "912db63e-20c3-484f-93ec-67a532daf37b",
   "metadata": {},
   "outputs": [],
   "source": [
    "from pyspark.ml.evaluation import BinaryClassificationEvaluator"
   ]
  },
  {
   "cell_type": "code",
   "execution_count": 28,
   "id": "22d81cd9-f6ac-4f92-9736-62914c64b4f2",
   "metadata": {},
   "outputs": [],
   "source": [
    "evaluator = BinaryClassificationEvaluator(labelCol='PrivateIndex')"
   ]
  },
  {
   "cell_type": "code",
   "execution_count": 31,
   "id": "c32a3ced-8b03-476b-9d13-1a7c50440dfb",
   "metadata": {},
   "outputs": [
    {
     "name": "stdout",
     "output_type": "stream",
     "text": [
      "DTC: 0.8945705718569287\n"
     ]
    }
   ],
   "source": [
    "print('DTC: ' + str(evaluator.evaluate(dtc_predictions)))"
   ]
  },
  {
   "cell_type": "code",
   "execution_count": 32,
   "id": "097ca0e6-f683-449e-80cc-8320d28221f0",
   "metadata": {},
   "outputs": [
    {
     "name": "stdout",
     "output_type": "stream",
     "text": [
      "RFC: 0.9823302634397086\n"
     ]
    }
   ],
   "source": [
    "print('RFC: ' + str(evaluator.evaluate(rfc_predictions)))"
   ]
  },
  {
   "cell_type": "code",
   "execution_count": 33,
   "id": "bca363b0-a166-40c4-9be2-b79e49cb165f",
   "metadata": {},
   "outputs": [
    {
     "name": "stdout",
     "output_type": "stream",
     "text": [
      "GBT: 0.9443135575069609\n"
     ]
    }
   ],
   "source": [
    "print('GBT: ' + str(evaluator.evaluate(gbt_predictions)))"
   ]
  },
  {
   "cell_type": "code",
   "execution_count": 34,
   "id": "bc43e081-a497-436f-b50e-84b29d0d88da",
   "metadata": {},
   "outputs": [],
   "source": [
    "from pyspark.ml.evaluation import MulticlassClassificationEvaluator"
   ]
  },
  {
   "cell_type": "code",
   "execution_count": 35,
   "id": "ac0339a0-f112-4f53-ac5c-204e556009bd",
   "metadata": {},
   "outputs": [],
   "source": [
    "multi_evaluator = MulticlassClassificationEvaluator(labelCol='PrivateIndex', metricName='accuracy')"
   ]
  },
  {
   "cell_type": "code",
   "execution_count": 36,
   "id": "fa3e2a8a-669a-4c2a-99cf-a86bf848f6ae",
   "metadata": {},
   "outputs": [
    {
     "data": {
      "text/plain": [
       "0.9452054794520548"
      ]
     },
     "execution_count": 36,
     "metadata": {},
     "output_type": "execute_result"
    }
   ],
   "source": [
    "multi_evaluator.evaluate(rfc_predictions)"
   ]
  },
  {
   "cell_type": "code",
   "execution_count": null,
   "id": "bf0dd1c1-45b6-46ba-9515-4086e15395d7",
   "metadata": {},
   "outputs": [],
   "source": []
  }
 ],
 "metadata": {
  "kernelspec": {
   "display_name": "Python 3 (ipykernel)",
   "language": "python",
   "name": "python3"
  },
  "language_info": {
   "codemirror_mode": {
    "name": "ipython",
    "version": 3
   },
   "file_extension": ".py",
   "mimetype": "text/x-python",
   "name": "python",
   "nbconvert_exporter": "python",
   "pygments_lexer": "ipython3",
   "version": "3.10.12"
  }
 },
 "nbformat": 4,
 "nbformat_minor": 5
}
