{
 "cells": [
  {
   "cell_type": "markdown",
   "id": "18b03c0a-3a17-4951-8eab-9e1b33d41a43",
   "metadata": {},
   "source": [
    "## Iniitializing Environment and Loading Data"
   ]
  },
  {
   "cell_type": "code",
   "execution_count": 1,
   "id": "a2e537eb-3c8d-4464-bbf4-ec7081d91808",
   "metadata": {},
   "outputs": [],
   "source": [
    "import findspark\n",
    "findspark.init('/home/shahayush954/spark-3.4.1-bin-hadoop3')"
   ]
  },
  {
   "cell_type": "code",
   "execution_count": 3,
   "id": "50045da6-2bf4-4108-a7ee-8b7460a3fe9c",
   "metadata": {},
   "outputs": [
    {
     "name": "stderr",
     "output_type": "stream",
     "text": [
      "23/08/20 18:58:02 WARN Utils: Your hostname, ubuntu-22 resolves to a loopback address: 127.0.1.1; using 10.0.2.15 instead (on interface enp0s3)\n",
      "23/08/20 18:58:02 WARN Utils: Set SPARK_LOCAL_IP if you need to bind to another address\n",
      "Setting default log level to \"WARN\".\n",
      "To adjust logging level use sc.setLogLevel(newLevel). For SparkR, use setLogLevel(newLevel).\n",
      "23/08/20 18:58:04 WARN NativeCodeLoader: Unable to load native-hadoop library for your platform... using builtin-java classes where applicable\n",
      "23/08/20 18:58:07 WARN Utils: Service 'SparkUI' could not bind on port 4040. Attempting port 4041.\n",
      "23/08/20 18:58:07 WARN Utils: Service 'SparkUI' could not bind on port 4041. Attempting port 4042.\n"
     ]
    }
   ],
   "source": [
    "from pyspark.sql import SparkSession\n",
    "spark = SparkSession.builder.appName('recommender').getOrCreate()"
   ]
  },
  {
   "cell_type": "code",
   "execution_count": 4,
   "id": "2ae5fa43-c728-45ba-a6bd-6e95ede616ab",
   "metadata": {},
   "outputs": [
    {
     "name": "stderr",
     "output_type": "stream",
     "text": [
      "                                                                                \r"
     ]
    }
   ],
   "source": [
    "data = spark.read.csv('movielens_ratings.csv', header=True, inferSchema=True)"
   ]
  },
  {
   "cell_type": "code",
   "execution_count": 5,
   "id": "836ce1af-b486-45f8-93aa-5c168f20feae",
   "metadata": {},
   "outputs": [
    {
     "name": "stdout",
     "output_type": "stream",
     "text": [
      "root\n",
      " |-- movieId: integer (nullable = true)\n",
      " |-- rating: double (nullable = true)\n",
      " |-- userId: integer (nullable = true)\n",
      "\n"
     ]
    }
   ],
   "source": [
    "data.printSchema()"
   ]
  },
  {
   "cell_type": "code",
   "execution_count": 6,
   "id": "9a46ff3f-ce34-4941-b7e1-0a7b63d4042a",
   "metadata": {},
   "outputs": [
    {
     "name": "stderr",
     "output_type": "stream",
     "text": [
      "                                                                                \r"
     ]
    },
    {
     "name": "stdout",
     "output_type": "stream",
     "text": [
      "+-------+------------------+------------------+------------------+\n",
      "|summary|           movieId|            rating|            userId|\n",
      "+-------+------------------+------------------+------------------+\n",
      "|  count|              1501|              1501|              1501|\n",
      "|   mean| 49.40572951365756|1.7741505662891406|14.383744170552964|\n",
      "| stddev|28.937034065088994| 1.187276166124803| 8.591040424293272|\n",
      "|    min|                 0|               1.0|                 0|\n",
      "|    max|                99|               5.0|                29|\n",
      "+-------+------------------+------------------+------------------+\n",
      "\n"
     ]
    }
   ],
   "source": [
    "data.describe().show()"
   ]
  },
  {
   "cell_type": "code",
   "execution_count": 7,
   "id": "50503cc3-e098-4896-aee4-bd4de7b54bfc",
   "metadata": {},
   "outputs": [],
   "source": [
    "train_data, test_data = data.randomSplit([0.8,0.2])"
   ]
  },
  {
   "cell_type": "markdown",
   "id": "ee106a09-e3cc-4467-b51b-5136e6e099fe",
   "metadata": {},
   "source": [
    "## Recommender Algorithms"
   ]
  },
  {
   "cell_type": "code",
   "execution_count": 8,
   "id": "4264c4c7-d31b-41f1-85ee-3ae93935cee9",
   "metadata": {},
   "outputs": [],
   "source": [
    "from pyspark.ml.recommendation import ALS\n",
    "from pyspark.ml.evaluation import RegressionEvaluator"
   ]
  },
  {
   "cell_type": "code",
   "execution_count": 9,
   "id": "d114aec6-f79a-4809-8602-657aad615ba5",
   "metadata": {},
   "outputs": [],
   "source": [
    "als = ALS(maxIter=5, regParam=0.01, userCol='userId', ratingCol='rating', itemCol='movieId')"
   ]
  },
  {
   "cell_type": "code",
   "execution_count": 10,
   "id": "3e485cda-3c12-4ee8-b049-29c120b42746",
   "metadata": {},
   "outputs": [
    {
     "name": "stderr",
     "output_type": "stream",
     "text": [
      "                                                                                \r"
     ]
    }
   ],
   "source": [
    "model = als.fit(train_data)"
   ]
  },
  {
   "cell_type": "code",
   "execution_count": 11,
   "id": "0d780f63-fedd-4a13-ad09-8fe998cd9839",
   "metadata": {},
   "outputs": [],
   "source": [
    "predictions = model.transform(test_data)"
   ]
  },
  {
   "cell_type": "code",
   "execution_count": 12,
   "id": "6511a319-15d4-4fa2-8822-6d40937695d7",
   "metadata": {},
   "outputs": [
    {
     "name": "stderr",
     "output_type": "stream",
     "text": [
      "                                                                                \r"
     ]
    },
    {
     "name": "stdout",
     "output_type": "stream",
     "text": [
      "+-------+------+------+-----------+\n",
      "|movieId|rating|userId| prediction|\n",
      "+-------+------+------+-----------+\n",
      "|      1|   1.0|    28|  2.6166077|\n",
      "|      2|   4.0|    28|  1.5665857|\n",
      "|      6|   1.0|    28|-0.25033987|\n",
      "|      4|   1.0|    12|  1.2256584|\n",
      "|      3|   2.0|    22|  1.5913528|\n",
      "|      5|   2.0|    22|  0.2002976|\n",
      "|      6|   1.0|     1|  1.5998328|\n",
      "|      6|   1.0|    20|   0.745488|\n",
      "|      0|   1.0|    15|-0.38979286|\n",
      "|      1|   4.0|    15|  1.4149723|\n",
      "|      2|   1.0|    15|  -1.209104|\n",
      "|      2|   3.0|     9|  1.4422479|\n",
      "|      3|   1.0|     9| 0.99841034|\n",
      "|      5|   1.0|     9|  0.4066971|\n",
      "|      0|   1.0|     8|  1.3650738|\n",
      "|      5|   1.0|     8| 0.80226296|\n",
      "|      6|   2.0|    23|  0.6783154|\n",
      "|      6|   3.0|    24|  1.4898047|\n",
      "|      3|   1.0|    29| 0.53934264|\n",
      "|      4|   1.0|    29|    1.51045|\n",
      "+-------+------+------+-----------+\n",
      "only showing top 20 rows\n",
      "\n"
     ]
    }
   ],
   "source": [
    "predictions.show()"
   ]
  },
  {
   "cell_type": "code",
   "execution_count": 13,
   "id": "1e824ac3-b9aa-4613-8a8a-c8ed5ec9851d",
   "metadata": {},
   "outputs": [],
   "source": [
    "evaluator = RegressionEvaluator(metricName='rmse', labelCol='rating', predictionCol='prediction')"
   ]
  },
  {
   "cell_type": "code",
   "execution_count": 14,
   "id": "d234ef24-c46f-4e5f-86d7-a2c71d914d12",
   "metadata": {},
   "outputs": [
    {
     "name": "stderr",
     "output_type": "stream",
     "text": [
      "                                                                                \r"
     ]
    }
   ],
   "source": [
    "rmse = evaluator.evaluate(predictions)"
   ]
  },
  {
   "cell_type": "code",
   "execution_count": 15,
   "id": "64043c6d-f195-4f21-b973-8db101ac390e",
   "metadata": {},
   "outputs": [
    {
     "data": {
      "text/plain": [
       "1.5804647976884063"
      ]
     },
     "execution_count": 15,
     "metadata": {},
     "output_type": "execute_result"
    }
   ],
   "source": [
    "rmse"
   ]
  },
  {
   "cell_type": "code",
   "execution_count": 16,
   "id": "6ce11a1c-505d-4e32-9840-09e4de700b18",
   "metadata": {},
   "outputs": [],
   "source": [
    "single_user = test_data.filter(test_data['userId'] == 11).select(['movieId', 'userId'])"
   ]
  },
  {
   "cell_type": "code",
   "execution_count": 17,
   "id": "0d1691fb-167e-4f6b-9afc-8657c6dd926e",
   "metadata": {},
   "outputs": [
    {
     "name": "stdout",
     "output_type": "stream",
     "text": [
      "+-------+------+\n",
      "|movieId|userId|\n",
      "+-------+------+\n",
      "|      9|    11|\n",
      "|     13|    11|\n",
      "|     20|    11|\n",
      "|     30|    11|\n",
      "|     40|    11|\n",
      "|     47|    11|\n",
      "|     50|    11|\n",
      "|     61|    11|\n",
      "|     82|    11|\n",
      "|     88|    11|\n",
      "+-------+------+\n",
      "\n"
     ]
    }
   ],
   "source": [
    "single_user.show()"
   ]
  },
  {
   "cell_type": "code",
   "execution_count": 18,
   "id": "a58f1c35-232f-4aa7-a2d8-10b041ef7cd8",
   "metadata": {},
   "outputs": [],
   "source": [
    "recommendations = model.transform(single_user)"
   ]
  },
  {
   "cell_type": "code",
   "execution_count": 19,
   "id": "cf523823-a562-4ec2-be8f-46ea471a8adf",
   "metadata": {},
   "outputs": [
    {
     "name": "stderr",
     "output_type": "stream",
     "text": [
      "                                                                                \r"
     ]
    },
    {
     "name": "stdout",
     "output_type": "stream",
     "text": [
      "+-------+------+----------+\n",
      "|movieId|userId|prediction|\n",
      "+-------+------+----------+\n",
      "|     47|    11|-2.6326303|\n",
      "|     61|    11|0.40718973|\n",
      "|     40|    11|0.66728747|\n",
      "|     82|    11| 0.9402393|\n",
      "|      9|    11|  1.249193|\n",
      "|     20|    11| 1.6235536|\n",
      "|     13|    11|  1.743881|\n",
      "|     50|    11| 1.8471425|\n",
      "|     88|    11|  2.113815|\n",
      "|     30|    11| 3.3900404|\n",
      "+-------+------+----------+\n",
      "\n"
     ]
    }
   ],
   "source": [
    "recommendations.orderBy('prediction').show()"
   ]
  },
  {
   "cell_type": "code",
   "execution_count": null,
   "id": "ef2a52da-ca2d-4079-b3e9-878846c7bd35",
   "metadata": {},
   "outputs": [],
   "source": []
  }
 ],
 "metadata": {
  "kernelspec": {
   "display_name": "Python 3 (ipykernel)",
   "language": "python",
   "name": "python3"
  },
  "language_info": {
   "codemirror_mode": {
    "name": "ipython",
    "version": 3
   },
   "file_extension": ".py",
   "mimetype": "text/x-python",
   "name": "python",
   "nbconvert_exporter": "python",
   "pygments_lexer": "ipython3",
   "version": "3.10.12"
  }
 },
 "nbformat": 4,
 "nbformat_minor": 5
}
