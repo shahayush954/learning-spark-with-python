{
 "cells": [
  {
   "cell_type": "markdown",
   "id": "4ec5908a-2eee-45a1-9882-03f71ce26ca8",
   "metadata": {},
   "source": [
    "## Initializing Spark Environment and Loading data"
   ]
  },
  {
   "cell_type": "code",
   "execution_count": 1,
   "id": "236a185a-1d71-4d40-a4ae-16b76d61604e",
   "metadata": {},
   "outputs": [],
   "source": [
    "import findspark\n",
    "findspark.init('/home/shahayush954/spark-3.4.1-bin-hadoop3')"
   ]
  },
  {
   "cell_type": "code",
   "execution_count": 2,
   "id": "604c6a2a-1c92-4959-a95f-76f1137a59f6",
   "metadata": {},
   "outputs": [
    {
     "name": "stderr",
     "output_type": "stream",
     "text": [
      "23/08/23 23:50:51 WARN Utils: Your hostname, ubuntu-22 resolves to a loopback address: 127.0.1.1; using 10.0.2.15 instead (on interface enp0s3)\n",
      "23/08/23 23:50:51 WARN Utils: Set SPARK_LOCAL_IP if you need to bind to another address\n",
      "Setting default log level to \"WARN\".\n",
      "To adjust logging level use sc.setLogLevel(newLevel). For SparkR, use setLogLevel(newLevel).\n",
      "23/08/23 23:50:54 WARN NativeCodeLoader: Unable to load native-hadoop library for your platform... using builtin-java classes where applicable\n"
     ]
    }
   ],
   "source": [
    "from pyspark.sql import SparkSession\n",
    "spark = SparkSession.builder.appName('nlp_project').getOrCreate()"
   ]
  },
  {
   "cell_type": "code",
   "execution_count": 3,
   "id": "3ca7291a-8faa-4fa2-aa35-d827a26d3386",
   "metadata": {},
   "outputs": [
    {
     "name": "stderr",
     "output_type": "stream",
     "text": [
      "                                                                                \r"
     ]
    }
   ],
   "source": [
    "data = spark.read.csv('SMSSpamCollection', inferSchema=True, sep='\\t') # separated by tabs"
   ]
  },
  {
   "cell_type": "code",
   "execution_count": 4,
   "id": "af43b59d-e0a5-4c23-8cf0-47370a7a1481",
   "metadata": {},
   "outputs": [
    {
     "name": "stdout",
     "output_type": "stream",
     "text": [
      "root\n",
      " |-- _c0: string (nullable = true)\n",
      " |-- _c1: string (nullable = true)\n",
      "\n"
     ]
    }
   ],
   "source": [
    "data.printSchema()"
   ]
  },
  {
   "cell_type": "code",
   "execution_count": 5,
   "id": "b2561551-77a3-40fa-bd94-e0ec73dbb7fc",
   "metadata": {},
   "outputs": [
    {
     "name": "stdout",
     "output_type": "stream",
     "text": [
      "+----+--------------------+\n",
      "| _c0|                 _c1|\n",
      "+----+--------------------+\n",
      "| ham|Go until jurong p...|\n",
      "| ham|Ok lar... Joking ...|\n",
      "|spam|Free entry in 2 a...|\n",
      "| ham|U dun say so earl...|\n",
      "| ham|Nah I don't think...|\n",
      "|spam|FreeMsg Hey there...|\n",
      "| ham|Even my brother i...|\n",
      "| ham|As per your reque...|\n",
      "|spam|WINNER!! As a val...|\n",
      "|spam|Had your mobile 1...|\n",
      "| ham|I'm gonna be home...|\n",
      "|spam|SIX chances to wi...|\n",
      "|spam|URGENT! You have ...|\n",
      "| ham|I've been searchi...|\n",
      "| ham|I HAVE A DATE ON ...|\n",
      "|spam|XXXMobileMovieClu...|\n",
      "| ham|Oh k...i'm watchi...|\n",
      "| ham|Eh u remember how...|\n",
      "| ham|Fine if thats th...|\n",
      "|spam|England v Macedon...|\n",
      "+----+--------------------+\n",
      "only showing top 20 rows\n",
      "\n"
     ]
    }
   ],
   "source": [
    "data.show()"
   ]
  },
  {
   "cell_type": "code",
   "execution_count": 6,
   "id": "a4474b02-6cdf-4cbd-befc-12afe8abcd27",
   "metadata": {},
   "outputs": [],
   "source": [
    "data = data.withColumnRenamed('_c0', 'class').withColumnRenamed('_c1', 'text')"
   ]
  },
  {
   "cell_type": "code",
   "execution_count": 7,
   "id": "870ec69e-8415-4553-a989-6bac4f965c55",
   "metadata": {},
   "outputs": [
    {
     "name": "stdout",
     "output_type": "stream",
     "text": [
      "+-----+--------------------+\n",
      "|class|                text|\n",
      "+-----+--------------------+\n",
      "|  ham|Go until jurong p...|\n",
      "|  ham|Ok lar... Joking ...|\n",
      "| spam|Free entry in 2 a...|\n",
      "|  ham|U dun say so earl...|\n",
      "|  ham|Nah I don't think...|\n",
      "| spam|FreeMsg Hey there...|\n",
      "|  ham|Even my brother i...|\n",
      "|  ham|As per your reque...|\n",
      "| spam|WINNER!! As a val...|\n",
      "| spam|Had your mobile 1...|\n",
      "|  ham|I'm gonna be home...|\n",
      "| spam|SIX chances to wi...|\n",
      "| spam|URGENT! You have ...|\n",
      "|  ham|I've been searchi...|\n",
      "|  ham|I HAVE A DATE ON ...|\n",
      "| spam|XXXMobileMovieClu...|\n",
      "|  ham|Oh k...i'm watchi...|\n",
      "|  ham|Eh u remember how...|\n",
      "|  ham|Fine if thats th...|\n",
      "| spam|England v Macedon...|\n",
      "+-----+--------------------+\n",
      "only showing top 20 rows\n",
      "\n"
     ]
    }
   ],
   "source": [
    "data.show()"
   ]
  },
  {
   "cell_type": "markdown",
   "id": "8f2c6ba2-e3cf-4831-a990-763acf4fdb2f",
   "metadata": {},
   "source": [
    "## Adding Length feature"
   ]
  },
  {
   "cell_type": "code",
   "execution_count": 8,
   "id": "550c4105-f352-4d54-aef1-668620cedacf",
   "metadata": {},
   "outputs": [],
   "source": [
    "from pyspark.sql.functions import length"
   ]
  },
  {
   "cell_type": "code",
   "execution_count": 9,
   "id": "7859cd38-b60a-49cb-a329-a8faaa8aff5f",
   "metadata": {},
   "outputs": [],
   "source": [
    "data = data.withColumn('length', length(data['text']))"
   ]
  },
  {
   "cell_type": "code",
   "execution_count": 10,
   "id": "f7799f85-6015-4cc7-8839-5f4be76920de",
   "metadata": {},
   "outputs": [
    {
     "name": "stdout",
     "output_type": "stream",
     "text": [
      "+-----+--------------------+------+\n",
      "|class|                text|length|\n",
      "+-----+--------------------+------+\n",
      "|  ham|Go until jurong p...|   111|\n",
      "|  ham|Ok lar... Joking ...|    29|\n",
      "| spam|Free entry in 2 a...|   155|\n",
      "|  ham|U dun say so earl...|    49|\n",
      "|  ham|Nah I don't think...|    61|\n",
      "| spam|FreeMsg Hey there...|   147|\n",
      "|  ham|Even my brother i...|    77|\n",
      "|  ham|As per your reque...|   160|\n",
      "| spam|WINNER!! As a val...|   157|\n",
      "| spam|Had your mobile 1...|   154|\n",
      "|  ham|I'm gonna be home...|   109|\n",
      "| spam|SIX chances to wi...|   136|\n",
      "| spam|URGENT! You have ...|   155|\n",
      "|  ham|I've been searchi...|   196|\n",
      "|  ham|I HAVE A DATE ON ...|    35|\n",
      "| spam|XXXMobileMovieClu...|   149|\n",
      "|  ham|Oh k...i'm watchi...|    26|\n",
      "|  ham|Eh u remember how...|    81|\n",
      "|  ham|Fine if thats th...|    56|\n",
      "| spam|England v Macedon...|   155|\n",
      "+-----+--------------------+------+\n",
      "only showing top 20 rows\n",
      "\n"
     ]
    }
   ],
   "source": [
    "data.show()"
   ]
  },
  {
   "cell_type": "markdown",
   "id": "7ffb4446-4cf3-4078-82d6-63b141b69dbb",
   "metadata": {},
   "source": [
    "## Relation between Spam and Ham with respect to length"
   ]
  },
  {
   "cell_type": "code",
   "execution_count": 11,
   "id": "69774159-b1de-4978-aa73-cadd5cb9c705",
   "metadata": {},
   "outputs": [
    {
     "name": "stderr",
     "output_type": "stream",
     "text": [
      "[Stage 7:>                                                          (0 + 1) / 1]\r"
     ]
    },
    {
     "name": "stdout",
     "output_type": "stream",
     "text": [
      "+-----+-----------------+\n",
      "|class|      avg(length)|\n",
      "+-----+-----------------+\n",
      "|  ham|71.45431945307645|\n",
      "| spam|138.6706827309237|\n",
      "+-----+-----------------+\n",
      "\n"
     ]
    },
    {
     "name": "stderr",
     "output_type": "stream",
     "text": [
      "                                                                                \r"
     ]
    }
   ],
   "source": [
    "data.groupBy('class').mean().show()"
   ]
  },
  {
   "cell_type": "markdown",
   "id": "3217dd88-dbbf-4230-bfb2-58235f88e7de",
   "metadata": {},
   "source": [
    "Spam messages have higher mean lengths as compared to Ham messages"
   ]
  },
  {
   "cell_type": "markdown",
   "id": "14df9ab2-0c92-44e8-bcc2-93952e40c2f3",
   "metadata": {},
   "source": [
    "## Data Preparation and cleaning"
   ]
  },
  {
   "cell_type": "code",
   "execution_count": 12,
   "id": "d17e39f6-738e-4fce-9cbc-83fe7a9bff9d",
   "metadata": {},
   "outputs": [],
   "source": [
    "from pyspark.ml.feature import Tokenizer, IDF, StringIndexer, StopWordsRemover, CountVectorizer"
   ]
  },
  {
   "cell_type": "code",
   "execution_count": 13,
   "id": "c151df7d-131c-4b0b-9054-b26efe06bb87",
   "metadata": {},
   "outputs": [],
   "source": [
    "tokenizer = Tokenizer(inputCol='text', outputCol='tokens')\n",
    "stop_remover = StopWordsRemover(inputCol='tokens', outputCol='stop_tokens')\n",
    "count_vec = CountVectorizer(inputCol='stop_tokens', outputCol='count_vec')\n",
    "idf = IDF(inputCol='count_vec', outputCol='tf_idf')\n",
    "stringIndexer = StringIndexer(inputCol='class', outputCol='label')"
   ]
  },
  {
   "cell_type": "code",
   "execution_count": 17,
   "id": "4d8bfd89-c2d9-43a7-9746-bf8fd245afe4",
   "metadata": {},
   "outputs": [],
   "source": [
    "tokenized_data = tokenizer.transform(data)t"
   ]
  },
  {
   "cell_type": "code",
   "execution_count": 19,
   "id": "89dae9a3-0565-475a-8304-00326d246431",
   "metadata": {},
   "outputs": [
    {
     "name": "stdout",
     "output_type": "stream",
     "text": [
      "+-----+--------------------+------+--------------------+\n",
      "|class|                text|length|              tokens|\n",
      "+-----+--------------------+------+--------------------+\n",
      "|  ham|Go until jurong p...|   111|[go, until, juron...|\n",
      "|  ham|Ok lar... Joking ...|    29|[ok, lar..., joki...|\n",
      "| spam|Free entry in 2 a...|   155|[free, entry, in,...|\n",
      "|  ham|U dun say so earl...|    49|[u, dun, say, so,...|\n",
      "|  ham|Nah I don't think...|    61|[nah, i, don't, t...|\n",
      "| spam|FreeMsg Hey there...|   147|[freemsg, hey, th...|\n",
      "|  ham|Even my brother i...|    77|[even, my, brothe...|\n",
      "|  ham|As per your reque...|   160|[as, per, your, r...|\n",
      "| spam|WINNER!! As a val...|   157|[winner!!, as, a,...|\n",
      "| spam|Had your mobile 1...|   154|[had, your, mobil...|\n",
      "|  ham|I'm gonna be home...|   109|[i'm, gonna, be, ...|\n",
      "| spam|SIX chances to wi...|   136|[six, chances, to...|\n",
      "| spam|URGENT! You have ...|   155|[urgent!, you, ha...|\n",
      "|  ham|I've been searchi...|   196|[i've, been, sear...|\n",
      "|  ham|I HAVE A DATE ON ...|    35|[i, have, a, date...|\n",
      "| spam|XXXMobileMovieClu...|   149|[xxxmobilemoviecl...|\n",
      "|  ham|Oh k...i'm watchi...|    26|[oh, k...i'm, wat...|\n",
      "|  ham|Eh u remember how...|    81|[eh, u, remember,...|\n",
      "|  ham|Fine if thats th...|    56|[fine, if, thats...|\n",
      "| spam|England v Macedon...|   155|[england, v, mace...|\n",
      "+-----+--------------------+------+--------------------+\n",
      "only showing top 20 rows\n",
      "\n"
     ]
    }
   ],
   "source": [
    "tokenized_data.show()"
   ]
  },
  {
   "cell_type": "code",
   "execution_count": 18,
   "id": "1e9e92b9-e9c6-4753-96f7-0793aa796e61",
   "metadata": {},
   "outputs": [],
   "source": [
    "stop_words_removed_data = stop_remover.transform(tokenized_data)"
   ]
  },
  {
   "cell_type": "code",
   "execution_count": 20,
   "id": "fcb657e8-80f3-406b-bff7-76f9687ff52b",
   "metadata": {},
   "outputs": [
    {
     "name": "stdout",
     "output_type": "stream",
     "text": [
      "+-----+--------------------+------+--------------------+--------------------+\n",
      "|class|                text|length|              tokens|         stop_tokens|\n",
      "+-----+--------------------+------+--------------------+--------------------+\n",
      "|  ham|Go until jurong p...|   111|[go, until, juron...|[go, jurong, poin...|\n",
      "|  ham|Ok lar... Joking ...|    29|[ok, lar..., joki...|[ok, lar..., joki...|\n",
      "| spam|Free entry in 2 a...|   155|[free, entry, in,...|[free, entry, 2, ...|\n",
      "|  ham|U dun say so earl...|    49|[u, dun, say, so,...|[u, dun, say, ear...|\n",
      "|  ham|Nah I don't think...|    61|[nah, i, don't, t...|[nah, think, goes...|\n",
      "| spam|FreeMsg Hey there...|   147|[freemsg, hey, th...|[freemsg, hey, da...|\n",
      "|  ham|Even my brother i...|    77|[even, my, brothe...|[even, brother, l...|\n",
      "|  ham|As per your reque...|   160|[as, per, your, r...|[per, request, 'm...|\n",
      "| spam|WINNER!! As a val...|   157|[winner!!, as, a,...|[winner!!, valued...|\n",
      "| spam|Had your mobile 1...|   154|[had, your, mobil...|[mobile, 11, mont...|\n",
      "|  ham|I'm gonna be home...|   109|[i'm, gonna, be, ...|[gonna, home, soo...|\n",
      "| spam|SIX chances to wi...|   136|[six, chances, to...|[six, chances, wi...|\n",
      "| spam|URGENT! You have ...|   155|[urgent!, you, ha...|[urgent!, won, 1,...|\n",
      "|  ham|I've been searchi...|   196|[i've, been, sear...|[searching, right...|\n",
      "|  ham|I HAVE A DATE ON ...|    35|[i, have, a, date...|[date, sunday, wi...|\n",
      "| spam|XXXMobileMovieClu...|   149|[xxxmobilemoviecl...|[xxxmobilemoviecl...|\n",
      "|  ham|Oh k...i'm watchi...|    26|[oh, k...i'm, wat...|[oh, k...i'm, wat...|\n",
      "|  ham|Eh u remember how...|    81|[eh, u, remember,...|[eh, u, remember,...|\n",
      "|  ham|Fine if thats th...|    56|[fine, if, thats...|[fine, thats, wa...|\n",
      "| spam|England v Macedon...|   155|[england, v, mace...|[england, v, mace...|\n",
      "+-----+--------------------+------+--------------------+--------------------+\n",
      "only showing top 20 rows\n",
      "\n"
     ]
    }
   ],
   "source": [
    "stop_words_removed_data.show()"
   ]
  },
  {
   "cell_type": "code",
   "execution_count": 21,
   "id": "48350318-a2f9-49ae-a7c5-71108d65a2ae",
   "metadata": {},
   "outputs": [
    {
     "name": "stderr",
     "output_type": "stream",
     "text": [
      "                                                                                \r"
     ]
    },
    {
     "name": "stdout",
     "output_type": "stream",
     "text": [
      "+-----+--------------------+------+--------------------+--------------------+--------------------+\n",
      "|class|                text|length|              tokens|         stop_tokens|           count_vec|\n",
      "+-----+--------------------+------+--------------------+--------------------+--------------------+\n",
      "|  ham|Go until jurong p...|   111|[go, until, juron...|[go, jurong, poin...|(13423,[7,11,31,6...|\n",
      "|  ham|Ok lar... Joking ...|    29|[ok, lar..., joki...|[ok, lar..., joki...|(13423,[0,24,301,...|\n",
      "| spam|Free entry in 2 a...|   155|[free, entry, in,...|[free, entry, 2, ...|(13423,[2,13,19,3...|\n",
      "|  ham|U dun say so earl...|    49|[u, dun, say, so,...|[u, dun, say, ear...|(13423,[0,70,80,1...|\n",
      "|  ham|Nah I don't think...|    61|[nah, i, don't, t...|[nah, think, goes...|(13423,[36,134,31...|\n",
      "| spam|FreeMsg Hey there...|   147|[freemsg, hey, th...|[freemsg, hey, da...|(13423,[10,60,140...|\n",
      "|  ham|Even my brother i...|    77|[even, my, brothe...|[even, brother, l...|(13423,[10,53,102...|\n",
      "|  ham|As per your reque...|   160|[as, per, your, r...|[per, request, 'm...|(13423,[127,185,4...|\n",
      "| spam|WINNER!! As a val...|   157|[winner!!, as, a,...|[winner!!, valued...|(13423,[1,47,121,...|\n",
      "| spam|Had your mobile 1...|   154|[had, your, mobil...|[mobile, 11, mont...|(13423,[0,1,13,27...|\n",
      "|  ham|I'm gonna be home...|   109|[i'm, gonna, be, ...|[gonna, home, soo...|(13423,[18,43,117...|\n",
      "| spam|SIX chances to wi...|   136|[six, chances, to...|[six, chances, wi...|(13423,[8,16,37,8...|\n",
      "| spam|URGENT! You have ...|   155|[urgent!, you, ha...|[urgent!, won, 1,...|(13423,[13,30,47,...|\n",
      "|  ham|I've been searchi...|   196|[i've, been, sear...|[searching, right...|(13423,[39,95,221...|\n",
      "|  ham|I HAVE A DATE ON ...|    35|[i, have, a, date...|[date, sunday, wi...|(13423,[555,1797,...|\n",
      "| spam|XXXMobileMovieClu...|   149|[xxxmobilemoviecl...|[xxxmobilemoviecl...|(13423,[30,109,11...|\n",
      "|  ham|Oh k...i'm watchi...|    26|[oh, k...i'm, wat...|[oh, k...i'm, wat...|(13423,[82,214,44...|\n",
      "|  ham|Eh u remember how...|    81|[eh, u, remember,...|[eh, u, remember,...|(13423,[0,2,49,13...|\n",
      "|  ham|Fine if thats th...|    56|[fine, if, thats...|[fine, thats, wa...|(13423,[0,74,105,...|\n",
      "| spam|England v Macedon...|   155|[england, v, mace...|[england, v, mace...|(13423,[4,30,33,5...|\n",
      "+-----+--------------------+------+--------------------+--------------------+--------------------+\n",
      "only showing top 20 rows\n",
      "\n"
     ]
    }
   ],
   "source": [
    "count_vec_data = count_vec.fit(stop_words_removed_data).transform(stop_words_removed_data)\n",
    "count_vec_data.show()"
   ]
  },
  {
   "cell_type": "code",
   "execution_count": 22,
   "id": "dcb754f6-36f5-4470-8b88-fd759c068123",
   "metadata": {},
   "outputs": [
    {
     "name": "stderr",
     "output_type": "stream",
     "text": [
      "[Stage 18:>                                                         (0 + 1) / 1]\r"
     ]
    },
    {
     "name": "stdout",
     "output_type": "stream",
     "text": [
      "+-----+--------------------+------+--------------------+--------------------+--------------------+--------------------+\n",
      "|class|                text|length|              tokens|         stop_tokens|           count_vec|              tf_idf|\n",
      "+-----+--------------------+------+--------------------+--------------------+--------------------+--------------------+\n",
      "|  ham|Go until jurong p...|   111|[go, until, juron...|[go, jurong, poin...|(13423,[7,11,31,6...|(13423,[7,11,31,6...|\n",
      "|  ham|Ok lar... Joking ...|    29|[ok, lar..., joki...|[ok, lar..., joki...|(13423,[0,24,301,...|(13423,[0,24,301,...|\n",
      "| spam|Free entry in 2 a...|   155|[free, entry, in,...|[free, entry, 2, ...|(13423,[2,13,19,3...|(13423,[2,13,19,3...|\n",
      "|  ham|U dun say so earl...|    49|[u, dun, say, so,...|[u, dun, say, ear...|(13423,[0,70,80,1...|(13423,[0,70,80,1...|\n",
      "|  ham|Nah I don't think...|    61|[nah, i, don't, t...|[nah, think, goes...|(13423,[36,134,31...|(13423,[36,134,31...|\n",
      "| spam|FreeMsg Hey there...|   147|[freemsg, hey, th...|[freemsg, hey, da...|(13423,[10,60,140...|(13423,[10,60,140...|\n",
      "|  ham|Even my brother i...|    77|[even, my, brothe...|[even, brother, l...|(13423,[10,53,102...|(13423,[10,53,102...|\n",
      "|  ham|As per your reque...|   160|[as, per, your, r...|[per, request, 'm...|(13423,[127,185,4...|(13423,[127,185,4...|\n",
      "| spam|WINNER!! As a val...|   157|[winner!!, as, a,...|[winner!!, valued...|(13423,[1,47,121,...|(13423,[1,47,121,...|\n",
      "| spam|Had your mobile 1...|   154|[had, your, mobil...|[mobile, 11, mont...|(13423,[0,1,13,27...|(13423,[0,1,13,27...|\n",
      "|  ham|I'm gonna be home...|   109|[i'm, gonna, be, ...|[gonna, home, soo...|(13423,[18,43,117...|(13423,[18,43,117...|\n",
      "| spam|SIX chances to wi...|   136|[six, chances, to...|[six, chances, wi...|(13423,[8,16,37,8...|(13423,[8,16,37,8...|\n",
      "| spam|URGENT! You have ...|   155|[urgent!, you, ha...|[urgent!, won, 1,...|(13423,[13,30,47,...|(13423,[13,30,47,...|\n",
      "|  ham|I've been searchi...|   196|[i've, been, sear...|[searching, right...|(13423,[39,95,221...|(13423,[39,95,221...|\n",
      "|  ham|I HAVE A DATE ON ...|    35|[i, have, a, date...|[date, sunday, wi...|(13423,[555,1797,...|(13423,[555,1797,...|\n",
      "| spam|XXXMobileMovieClu...|   149|[xxxmobilemoviecl...|[xxxmobilemoviecl...|(13423,[30,109,11...|(13423,[30,109,11...|\n",
      "|  ham|Oh k...i'm watchi...|    26|[oh, k...i'm, wat...|[oh, k...i'm, wat...|(13423,[82,214,44...|(13423,[82,214,44...|\n",
      "|  ham|Eh u remember how...|    81|[eh, u, remember,...|[eh, u, remember,...|(13423,[0,2,49,13...|(13423,[0,2,49,13...|\n",
      "|  ham|Fine if thats th...|    56|[fine, if, thats...|[fine, thats, wa...|(13423,[0,74,105,...|(13423,[0,74,105,...|\n",
      "| spam|England v Macedon...|   155|[england, v, mace...|[england, v, mace...|(13423,[4,30,33,5...|(13423,[4,30,33,5...|\n",
      "+-----+--------------------+------+--------------------+--------------------+--------------------+--------------------+\n",
      "only showing top 20 rows\n",
      "\n"
     ]
    },
    {
     "name": "stderr",
     "output_type": "stream",
     "text": [
      "                                                                                \r"
     ]
    }
   ],
   "source": [
    "idf_data = idf.fit(count_vec_data).transform(count_vec_data)\n",
    "idf_data.show()"
   ]
  },
  {
   "cell_type": "code",
   "execution_count": 23,
   "id": "70e179dc-9872-44c1-8e67-e46fccca032b",
   "metadata": {},
   "outputs": [],
   "source": [
    "from pyspark.ml.feature import VectorAssembler"
   ]
  },
  {
   "cell_type": "code",
   "execution_count": 24,
   "id": "1cd2a09d-75db-493e-870c-c424b482dc13",
   "metadata": {},
   "outputs": [],
   "source": [
    "assembler = VectorAssembler(inputCols=['tf_idf', 'length'], outputCol='features')"
   ]
  },
  {
   "cell_type": "code",
   "execution_count": 25,
   "id": "38a3541b-d32b-43bb-ab12-22a633affbdb",
   "metadata": {},
   "outputs": [
    {
     "name": "stdout",
     "output_type": "stream",
     "text": [
      "+-----+--------------------+------+--------------------+--------------------+--------------------+--------------------+--------------------+\n",
      "|class|                text|length|              tokens|         stop_tokens|           count_vec|              tf_idf|            features|\n",
      "+-----+--------------------+------+--------------------+--------------------+--------------------+--------------------+--------------------+\n",
      "|  ham|Go until jurong p...|   111|[go, until, juron...|[go, jurong, poin...|(13423,[7,11,31,6...|(13423,[7,11,31,6...|(13424,[7,11,31,6...|\n",
      "|  ham|Ok lar... Joking ...|    29|[ok, lar..., joki...|[ok, lar..., joki...|(13423,[0,24,301,...|(13423,[0,24,301,...|(13424,[0,24,301,...|\n",
      "| spam|Free entry in 2 a...|   155|[free, entry, in,...|[free, entry, 2, ...|(13423,[2,13,19,3...|(13423,[2,13,19,3...|(13424,[2,13,19,3...|\n",
      "|  ham|U dun say so earl...|    49|[u, dun, say, so,...|[u, dun, say, ear...|(13423,[0,70,80,1...|(13423,[0,70,80,1...|(13424,[0,70,80,1...|\n",
      "|  ham|Nah I don't think...|    61|[nah, i, don't, t...|[nah, think, goes...|(13423,[36,134,31...|(13423,[36,134,31...|(13424,[36,134,31...|\n",
      "| spam|FreeMsg Hey there...|   147|[freemsg, hey, th...|[freemsg, hey, da...|(13423,[10,60,140...|(13423,[10,60,140...|(13424,[10,60,140...|\n",
      "|  ham|Even my brother i...|    77|[even, my, brothe...|[even, brother, l...|(13423,[10,53,102...|(13423,[10,53,102...|(13424,[10,53,102...|\n",
      "|  ham|As per your reque...|   160|[as, per, your, r...|[per, request, 'm...|(13423,[127,185,4...|(13423,[127,185,4...|(13424,[127,185,4...|\n",
      "| spam|WINNER!! As a val...|   157|[winner!!, as, a,...|[winner!!, valued...|(13423,[1,47,121,...|(13423,[1,47,121,...|(13424,[1,47,121,...|\n",
      "| spam|Had your mobile 1...|   154|[had, your, mobil...|[mobile, 11, mont...|(13423,[0,1,13,27...|(13423,[0,1,13,27...|(13424,[0,1,13,27...|\n",
      "|  ham|I'm gonna be home...|   109|[i'm, gonna, be, ...|[gonna, home, soo...|(13423,[18,43,117...|(13423,[18,43,117...|(13424,[18,43,117...|\n",
      "| spam|SIX chances to wi...|   136|[six, chances, to...|[six, chances, wi...|(13423,[8,16,37,8...|(13423,[8,16,37,8...|(13424,[8,16,37,8...|\n",
      "| spam|URGENT! You have ...|   155|[urgent!, you, ha...|[urgent!, won, 1,...|(13423,[13,30,47,...|(13423,[13,30,47,...|(13424,[13,30,47,...|\n",
      "|  ham|I've been searchi...|   196|[i've, been, sear...|[searching, right...|(13423,[39,95,221...|(13423,[39,95,221...|(13424,[39,95,221...|\n",
      "|  ham|I HAVE A DATE ON ...|    35|[i, have, a, date...|[date, sunday, wi...|(13423,[555,1797,...|(13423,[555,1797,...|(13424,[555,1797,...|\n",
      "| spam|XXXMobileMovieClu...|   149|[xxxmobilemoviecl...|[xxxmobilemoviecl...|(13423,[30,109,11...|(13423,[30,109,11...|(13424,[30,109,11...|\n",
      "|  ham|Oh k...i'm watchi...|    26|[oh, k...i'm, wat...|[oh, k...i'm, wat...|(13423,[82,214,44...|(13423,[82,214,44...|(13424,[82,214,44...|\n",
      "|  ham|Eh u remember how...|    81|[eh, u, remember,...|[eh, u, remember,...|(13423,[0,2,49,13...|(13423,[0,2,49,13...|(13424,[0,2,49,13...|\n",
      "|  ham|Fine if thats th...|    56|[fine, if, thats...|[fine, thats, wa...|(13423,[0,74,105,...|(13423,[0,74,105,...|(13424,[0,74,105,...|\n",
      "| spam|England v Macedon...|   155|[england, v, mace...|[england, v, mace...|(13423,[4,30,33,5...|(13423,[4,30,33,5...|(13424,[4,30,33,5...|\n",
      "+-----+--------------------+------+--------------------+--------------------+--------------------+--------------------+--------------------+\n",
      "only showing top 20 rows\n",
      "\n"
     ]
    }
   ],
   "source": [
    "features_data = assembler.transform(idf_data)\n",
    "features_data.show()"
   ]
  },
  {
   "cell_type": "code",
   "execution_count": 26,
   "id": "2fadd12c-026d-46a2-9e17-4bbebea97bbb",
   "metadata": {},
   "outputs": [
    {
     "name": "stderr",
     "output_type": "stream",
     "text": [
      "                                                                                \r"
     ]
    },
    {
     "name": "stdout",
     "output_type": "stream",
     "text": [
      "+-----+--------------------+------+--------------------+--------------------+--------------------+--------------------+--------------------+-----+\n",
      "|class|                text|length|              tokens|         stop_tokens|           count_vec|              tf_idf|            features|label|\n",
      "+-----+--------------------+------+--------------------+--------------------+--------------------+--------------------+--------------------+-----+\n",
      "|  ham|Go until jurong p...|   111|[go, until, juron...|[go, jurong, poin...|(13423,[7,11,31,6...|(13423,[7,11,31,6...|(13424,[7,11,31,6...|  0.0|\n",
      "|  ham|Ok lar... Joking ...|    29|[ok, lar..., joki...|[ok, lar..., joki...|(13423,[0,24,301,...|(13423,[0,24,301,...|(13424,[0,24,301,...|  0.0|\n",
      "| spam|Free entry in 2 a...|   155|[free, entry, in,...|[free, entry, 2, ...|(13423,[2,13,19,3...|(13423,[2,13,19,3...|(13424,[2,13,19,3...|  1.0|\n",
      "|  ham|U dun say so earl...|    49|[u, dun, say, so,...|[u, dun, say, ear...|(13423,[0,70,80,1...|(13423,[0,70,80,1...|(13424,[0,70,80,1...|  0.0|\n",
      "|  ham|Nah I don't think...|    61|[nah, i, don't, t...|[nah, think, goes...|(13423,[36,134,31...|(13423,[36,134,31...|(13424,[36,134,31...|  0.0|\n",
      "| spam|FreeMsg Hey there...|   147|[freemsg, hey, th...|[freemsg, hey, da...|(13423,[10,60,140...|(13423,[10,60,140...|(13424,[10,60,140...|  1.0|\n",
      "|  ham|Even my brother i...|    77|[even, my, brothe...|[even, brother, l...|(13423,[10,53,102...|(13423,[10,53,102...|(13424,[10,53,102...|  0.0|\n",
      "|  ham|As per your reque...|   160|[as, per, your, r...|[per, request, 'm...|(13423,[127,185,4...|(13423,[127,185,4...|(13424,[127,185,4...|  0.0|\n",
      "| spam|WINNER!! As a val...|   157|[winner!!, as, a,...|[winner!!, valued...|(13423,[1,47,121,...|(13423,[1,47,121,...|(13424,[1,47,121,...|  1.0|\n",
      "| spam|Had your mobile 1...|   154|[had, your, mobil...|[mobile, 11, mont...|(13423,[0,1,13,27...|(13423,[0,1,13,27...|(13424,[0,1,13,27...|  1.0|\n",
      "|  ham|I'm gonna be home...|   109|[i'm, gonna, be, ...|[gonna, home, soo...|(13423,[18,43,117...|(13423,[18,43,117...|(13424,[18,43,117...|  0.0|\n",
      "| spam|SIX chances to wi...|   136|[six, chances, to...|[six, chances, wi...|(13423,[8,16,37,8...|(13423,[8,16,37,8...|(13424,[8,16,37,8...|  1.0|\n",
      "| spam|URGENT! You have ...|   155|[urgent!, you, ha...|[urgent!, won, 1,...|(13423,[13,30,47,...|(13423,[13,30,47,...|(13424,[13,30,47,...|  1.0|\n",
      "|  ham|I've been searchi...|   196|[i've, been, sear...|[searching, right...|(13423,[39,95,221...|(13423,[39,95,221...|(13424,[39,95,221...|  0.0|\n",
      "|  ham|I HAVE A DATE ON ...|    35|[i, have, a, date...|[date, sunday, wi...|(13423,[555,1797,...|(13423,[555,1797,...|(13424,[555,1797,...|  0.0|\n",
      "| spam|XXXMobileMovieClu...|   149|[xxxmobilemoviecl...|[xxxmobilemoviecl...|(13423,[30,109,11...|(13423,[30,109,11...|(13424,[30,109,11...|  1.0|\n",
      "|  ham|Oh k...i'm watchi...|    26|[oh, k...i'm, wat...|[oh, k...i'm, wat...|(13423,[82,214,44...|(13423,[82,214,44...|(13424,[82,214,44...|  0.0|\n",
      "|  ham|Eh u remember how...|    81|[eh, u, remember,...|[eh, u, remember,...|(13423,[0,2,49,13...|(13423,[0,2,49,13...|(13424,[0,2,49,13...|  0.0|\n",
      "|  ham|Fine if thats th...|    56|[fine, if, thats...|[fine, thats, wa...|(13423,[0,74,105,...|(13423,[0,74,105,...|(13424,[0,74,105,...|  0.0|\n",
      "| spam|England v Macedon...|   155|[england, v, mace...|[england, v, mace...|(13423,[4,30,33,5...|(13423,[4,30,33,5...|(13424,[4,30,33,5...|  1.0|\n",
      "+-----+--------------------+------+--------------------+--------------------+--------------------+--------------------+--------------------+-----+\n",
      "only showing top 20 rows\n",
      "\n"
     ]
    }
   ],
   "source": [
    "features_with_labels = stringIndexer.fit(features_data).transform(features_data)\n",
    "features_with_labels.show()"
   ]
  },
  {
   "cell_type": "code",
   "execution_count": 27,
   "id": "9b21e07b-dd7f-44ce-a6cb-8401cf1599df",
   "metadata": {},
   "outputs": [],
   "source": [
    "from pyspark.ml.classification import NaiveBayes"
   ]
  },
  {
   "cell_type": "code",
   "execution_count": 28,
   "id": "72248320-428b-4944-825d-a8bdcf3f6d5e",
   "metadata": {},
   "outputs": [],
   "source": [
    "naiveBayes = NaiveBayes()"
   ]
  },
  {
   "cell_type": "code",
   "execution_count": 29,
   "id": "efed6673-2740-4858-b28e-e8bc05b013da",
   "metadata": {},
   "outputs": [],
   "source": [
    "train_data, test_data = features_with_labels.randomSplit([0.7,0.3])"
   ]
  },
  {
   "cell_type": "code",
   "execution_count": 30,
   "id": "62ce2edc-fb9e-4ea2-a51c-d1f02479dc7c",
   "metadata": {},
   "outputs": [
    {
     "name": "stderr",
     "output_type": "stream",
     "text": [
      "23/08/24 00:13:51 WARN DAGScheduler: Broadcasting large task binary with size 1197.6 KiB\n",
      "23/08/24 00:13:54 WARN DAGScheduler: Broadcasting large task binary with size 1148.9 KiB\n",
      "                                                                                \r"
     ]
    }
   ],
   "source": [
    "model = naiveBayes.fit(train_data)"
   ]
  },
  {
   "cell_type": "code",
   "execution_count": 31,
   "id": "3a16258b-87d6-4afb-a140-ba3b3fb1b920",
   "metadata": {},
   "outputs": [],
   "source": [
    "results = model.transform(test_data)"
   ]
  },
  {
   "cell_type": "code",
   "execution_count": 32,
   "id": "5631642e-31e0-4ff1-85ba-4ac5613c8986",
   "metadata": {},
   "outputs": [
    {
     "name": "stderr",
     "output_type": "stream",
     "text": [
      "23/08/24 00:15:10 WARN DAGScheduler: Broadcasting large task binary with size 1417.1 KiB\n",
      "[Stage 27:>                                                         (0 + 1) / 1]\r"
     ]
    },
    {
     "name": "stdout",
     "output_type": "stream",
     "text": [
      "+-----+--------------------+------+--------------------+--------------------+--------------------+--------------------+--------------------+-----+--------------------+--------------------+----------+\n",
      "|class|                text|length|              tokens|         stop_tokens|           count_vec|              tf_idf|            features|label|       rawPrediction|         probability|prediction|\n",
      "+-----+--------------------+------+--------------------+--------------------+--------------------+--------------------+--------------------+-----+--------------------+--------------------+----------+\n",
      "|  ham| came to look at ...|   103|[, came, to, look...|[, came, look, fl...|(13423,[3,11,163,...|(13423,[3,11,163,...|(13424,[3,11,163,...|  0.0|[-1031.0617756918...|[1.0,5.5967586141...|       0.0|\n",
      "|  ham| says that he's q...|   200|[, says, that, he...|[, says, quitting...|(13423,[0,3,14,18...|(13423,[0,3,14,18...|(13424,[0,3,14,18...|  0.0|[-1200.9152618364...|[1.0,7.8517820042...|       0.0|\n",
      "|  ham| what number do u...|    36|[, what, number, ...|[, number, u, liv...|(13423,[0,3,88,18...|(13423,[0,3,88,18...|(13424,[0,3,88,18...|  0.0|[-310.23084779311...|[0.99999819340432...|       0.0|\n",
      "|  ham|\"Happy valentines...|   147|[\"happy, valentin...|[\"happy, valentin...|(13423,[12,168,18...|(13423,[12,168,18...|(13424,[12,168,18...|  0.0|[-1115.3082036469...|[0.99999999999999...|       0.0|\n",
      "|  ham|\"Its Ur luck to L...|   155|[\"its, ur, luck, ...|[\"its, ur, luck, ...|(13423,[4,21,29,1...|(13423,[4,21,29,1...|(13424,[4,21,29,1...|  0.0|[-1199.9948908299...|[1.0,1.0414023034...|       0.0|\n",
      "|  ham|\"SYMPTOMS\" when U...|   139|[\"symptoms\", when...|[\"symptoms\", u, l...|(13423,[0,5,10,32...|(13423,[0,5,10,32...|(13424,[0,5,10,32...|  0.0|[-1069.0261807563...|[1.0,2.1999207323...|       0.0|\n",
      "|  ham|\"Wen u miss someo...|   143|[\"wen, u, miss, s...|[\"wen, u, miss, s...|(13423,[0,79,225,...|(13423,[0,79,225,...|(13424,[0,79,225,...|  0.0|[-1048.8528937070...|[0.99999999999999...|       0.0|\n",
      "|  ham|&lt;#&gt;  great ...|    85|[&lt;#&gt;, , gre...|[&lt;#&gt;, , gre...|(13423,[3,6,32,61...|(13423,[3,6,32,61...|(13424,[3,6,32,61...|  0.0|[-680.06410714114...|[1.0,2.1343872853...|       0.0|\n",
      "|  ham|&lt;#&gt;  is fas...|   461|[&lt;#&gt;, , is,...|[&lt;#&gt;, , fas...|(13423,[0,3,6,8,1...|(13423,[0,3,6,8,1...|(13424,[0,3,6,8,1...|  0.0|[-3629.3418617512...|[1.0,8.1900670923...|       0.0|\n",
      "|  ham|'An Amazing Quote...|   141|['an, amazing, qu...|['an, amazing, qu...|(13423,[59,151,21...|(13423,[59,151,21...|(13424,[59,151,21...|  0.0|[-1256.6888999398...|[0.99999992680711...|       0.0|\n",
      "|  ham|* Will be septemb...|    28|[*, will, be, sep...|[*, september, th...|(13423,[192,2303,...|(13423,[192,2303,...|(13424,[192,2303,...|  0.0|[-228.97935602383...|[0.99999999999982...|       0.0|\n",
      "|  ham|, ,  and  picking...|   169|[,, ,, , and, , p...|[,, ,, , , pickin...|(13423,[0,2,3,8,2...|(13423,[0,2,3,8,2...|(13424,[0,2,3,8,2...|  0.0|[-1657.2029120966...|[1.0,2.4783296992...|       0.0|\n",
      "|  ham|1) Go to write ms...|   141|[1), go, to, writ...|[1), go, write, m...|(13423,[3,4,6,7,9...|(13423,[3,4,6,7,9...|(13424,[3,4,6,7,9...|  0.0|[-1218.7238031198...|[1.0,2.9902268228...|       0.0|\n",
      "|  ham|1) Go to write ms...|   141|[1), go, to, writ...|[1), go, write, m...|(13423,[3,4,6,7,9...|(13423,[3,4,6,7,9...|(13424,[3,4,6,7,9...|  0.0|[-1218.7238031198...|[1.0,2.9902268228...|       0.0|\n",
      "|  ham|1.20 that call co...|    79|[1.20, that, call...|[1.20, call, cost...|(13423,[1,18,21,2...|(13423,[1,18,21,2...|(13424,[1,18,21,2...|  0.0|[-768.38679132639...|[1.0,7.9881670630...|       0.0|\n",
      "|  ham|2mro i am not com...|    46|[2mro, i, am, not...|[2mro, coming, gy...|(13423,[163,1239,...|(13423,[163,1239,...|(13424,[163,1239,...|  0.0|[-384.51026714184...|[1.0,3.3293189689...|       0.0|\n",
      "|  ham|4 oclock at mine....|    47|[4, oclock, at, m...|[4, oclock, mine....|(13423,[8,2557,27...|(13423,[8,2557,27...|(13424,[8,2557,27...|  0.0|[-499.10199806268...|[0.96526208494951...|       0.0|\n",
      "|  ham|7 wonders in My W...|   151|[7, wonders, in, ...|[7, wonders, worl...|(13423,[4,15,65,1...|(13423,[4,15,65,1...|(13424,[4,15,65,1...|  0.0|[-1377.8164355462...|[1.0,1.1123189557...|       0.0|\n",
      "|  ham|7 wonders in My W...|   151|[7, wonders, in, ...|[7, wonders, worl...|(13423,[4,15,65,1...|(13423,[4,15,65,1...|(13424,[4,15,65,1...|  0.0|[-1377.8164355462...|[1.0,1.1123189557...|       0.0|\n",
      "|  ham|                 :) |     3|                [:)]|                [:)]| (13423,[120],[1.0])|(13423,[120],[4.5...|(13424,[120,13423...|  0.0|[-36.250837561788...|[0.99999999959978...|       0.0|\n",
      "+-----+--------------------+------+--------------------+--------------------+--------------------+--------------------+--------------------+-----+--------------------+--------------------+----------+\n",
      "only showing top 20 rows\n",
      "\n"
     ]
    },
    {
     "name": "stderr",
     "output_type": "stream",
     "text": [
      "                                                                                \r"
     ]
    }
   ],
   "source": [
    "results.show()"
   ]
  },
  {
   "cell_type": "code",
   "execution_count": 33,
   "id": "3369e2c1-7dc1-4449-b451-64ac478ea368",
   "metadata": {},
   "outputs": [],
   "source": [
    "from pyspark.ml.evaluation import MulticlassClassificationEvaluator"
   ]
  },
  {
   "cell_type": "code",
   "execution_count": 34,
   "id": "7285867a-b50d-4d0a-8718-65ccadd5383f",
   "metadata": {},
   "outputs": [],
   "source": [
    "evaluator = MulticlassClassificationEvaluator()"
   ]
  },
  {
   "cell_type": "code",
   "execution_count": 35,
   "id": "dd949f62-40a5-4497-81d9-9c35252fac2f",
   "metadata": {},
   "outputs": [
    {
     "name": "stderr",
     "output_type": "stream",
     "text": [
      "23/08/24 00:16:24 WARN DAGScheduler: Broadcasting large task binary with size 1407.6 KiB\n",
      "                                                                                \r"
     ]
    }
   ],
   "source": [
    "accuracy = evaluator.evaluate(results)"
   ]
  },
  {
   "cell_type": "code",
   "execution_count": 36,
   "id": "ff83a732-0c6c-4f5e-883e-2630cb892028",
   "metadata": {},
   "outputs": [
    {
     "data": {
      "text/plain": [
       "0.9274953927370526"
      ]
     },
     "execution_count": 36,
     "metadata": {},
     "output_type": "execute_result"
    }
   ],
   "source": [
    "accuracy"
   ]
  },
  {
   "cell_type": "code",
   "execution_count": null,
   "id": "8c72ce41-a2c9-44d4-ad2a-407981c464f6",
   "metadata": {},
   "outputs": [],
   "source": []
  }
 ],
 "metadata": {
  "kernelspec": {
   "display_name": "Python 3 (ipykernel)",
   "language": "python",
   "name": "python3"
  },
  "language_info": {
   "codemirror_mode": {
    "name": "ipython",
    "version": 3
   },
   "file_extension": ".py",
   "mimetype": "text/x-python",
   "name": "python",
   "nbconvert_exporter": "python",
   "pygments_lexer": "ipython3",
   "version": "3.10.12"
  }
 },
 "nbformat": 4,
 "nbformat_minor": 5
}
