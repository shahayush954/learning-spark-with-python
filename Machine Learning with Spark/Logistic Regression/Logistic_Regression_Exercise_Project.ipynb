{
 "cells": [
  {
   "cell_type": "markdown",
   "metadata": {},
   "source": [
    "# Logistic Regression Consulting Project"
   ]
  },
  {
   "cell_type": "markdown",
   "metadata": {
    "collapsed": true,
    "jupyter": {
     "outputs_hidden": true
    }
   },
   "source": [
    "## Binary Customer Churn\n",
    "\n",
    "A marketing agency has many customers that use their service to produce ads for the client/customer websites. They've noticed that they have quite a bit of churn in clients. They basically randomly assign account managers right now, but want you to create a machine learning model that will help predict which customers will churn (stop buying their service) so that they can correctly assign the customers most at risk to churn an account manager. Luckily they have some historical data, can you help them out? Create a classification algorithm that will help classify whether or not a customer churned. Then the company can test this against incoming data for future customers to predict which customers will churn and assign them an account manager.\n",
    "\n",
    "The data is saved as customer_churn.csv. Here are the fields and their definitions:\n",
    "\n",
    "    Name : Name of the latest contact at Company\n",
    "    Age: Customer Age\n",
    "    Total_Purchase: Total Ads Purchased\n",
    "    Account_Manager: Binary 0=No manager, 1= Account manager assigned\n",
    "    Years: Totaly Years as a customer\n",
    "    Num_sites: Number of websites that use the service.\n",
    "    Onboard_date: Date that the name of the latest contact was onboarded\n",
    "    Location: Client HQ Address\n",
    "    Company: Name of Client Company\n",
    "    \n",
    "Once you've created the model and evaluated it, test out the model on some new data (you can think of this almost like a hold-out set) that your client has provided, saved under new_customers.csv. The client wants to know which customers are most likely to churn given this data (they don't have the label yet)."
   ]
  },
  {
   "cell_type": "markdown",
   "metadata": {},
   "source": [
    "## Initializing Spark and Loading Data"
   ]
  },
  {
   "cell_type": "code",
   "execution_count": 1,
   "metadata": {},
   "outputs": [],
   "source": [
    "import findspark\n",
    "findspark.init('/home/shahayush954/spark-3.4.1-bin-hadoop3')"
   ]
  },
  {
   "cell_type": "code",
   "execution_count": 2,
   "metadata": {},
   "outputs": [
    {
     "name": "stderr",
     "output_type": "stream",
     "text": [
      "23/08/19 14:32:24 WARN Utils: Your hostname, ubuntu-22 resolves to a loopback address: 127.0.1.1; using 10.0.2.15 instead (on interface enp0s3)\n",
      "23/08/19 14:32:24 WARN Utils: Set SPARK_LOCAL_IP if you need to bind to another address\n",
      "Setting default log level to \"WARN\".\n",
      "To adjust logging level use sc.setLogLevel(newLevel). For SparkR, use setLogLevel(newLevel).\n",
      "23/08/19 14:32:28 WARN NativeCodeLoader: Unable to load native-hadoop library for your platform... using builtin-java classes where applicable\n"
     ]
    }
   ],
   "source": [
    "from pyspark.sql import SparkSession\n",
    "spark = SparkSession.builder.appName('lgr_exercise').getOrCreate()"
   ]
  },
  {
   "cell_type": "code",
   "execution_count": 3,
   "metadata": {},
   "outputs": [
    {
     "name": "stderr",
     "output_type": "stream",
     "text": [
      "                                                                                \r"
     ]
    }
   ],
   "source": [
    "data = spark.read.csv('customer_churn.csv', header=True, inferSchema=True)"
   ]
  },
  {
   "cell_type": "code",
   "execution_count": 4,
   "metadata": {},
   "outputs": [
    {
     "name": "stdout",
     "output_type": "stream",
     "text": [
      "root\n",
      " |-- Names: string (nullable = true)\n",
      " |-- Age: double (nullable = true)\n",
      " |-- Total_Purchase: double (nullable = true)\n",
      " |-- Account_Manager: integer (nullable = true)\n",
      " |-- Years: double (nullable = true)\n",
      " |-- Num_Sites: double (nullable = true)\n",
      " |-- Onboard_date: timestamp (nullable = true)\n",
      " |-- Location: string (nullable = true)\n",
      " |-- Company: string (nullable = true)\n",
      " |-- Churn: integer (nullable = true)\n",
      "\n"
     ]
    }
   ],
   "source": [
    "data.printSchema()"
   ]
  },
  {
   "cell_type": "code",
   "execution_count": 5,
   "metadata": {},
   "outputs": [
    {
     "name": "stdout",
     "output_type": "stream",
     "text": [
      "+-------------------+----+--------------+---------------+-----+---------+-------------------+--------------------+--------------------+-----+\n",
      "|              Names| Age|Total_Purchase|Account_Manager|Years|Num_Sites|       Onboard_date|            Location|             Company|Churn|\n",
      "+-------------------+----+--------------+---------------+-----+---------+-------------------+--------------------+--------------------+-----+\n",
      "|   Cameron Williams|42.0|       11066.8|              0| 7.22|      8.0|2013-08-30 07:00:40|10265 Elizabeth M...|          Harvey LLC|    1|\n",
      "|      Kevin Mueller|41.0|      11916.22|              0|  6.5|     11.0|2013-08-13 00:38:46|6157 Frank Garden...|          Wilson PLC|    1|\n",
      "|        Eric Lozano|38.0|      12884.75|              0| 6.67|     12.0|2016-06-29 06:20:07|1331 Keith Court ...|Miller, Johnson a...|    1|\n",
      "|      Phillip White|42.0|       8010.76|              0| 6.71|     10.0|2014-04-22 12:43:12|13120 Daniel Moun...|           Smith Inc|    1|\n",
      "|     Cynthia Norton|37.0|       9191.58|              0| 5.56|      9.0|2016-01-19 15:31:15|765 Tricia Row Ka...|          Love-Jones|    1|\n",
      "|   Jessica Williams|48.0|      10356.02|              0| 5.12|      8.0|2009-03-03 23:13:37|6187 Olson Mounta...|        Kelly-Warren|    1|\n",
      "|        Eric Butler|44.0|      11331.58|              1| 5.23|     11.0|2016-12-05 03:35:43|4846 Savannah Roa...|   Reynolds-Sheppard|    1|\n",
      "|      Zachary Walsh|32.0|       9885.12|              1| 6.92|      9.0|2006-03-09 14:50:20|25271 Roy Express...|          Singh-Cole|    1|\n",
      "|        Ashlee Carr|43.0|       14062.6|              1| 5.46|     11.0|2011-09-29 05:47:23|3725 Caroline Str...|           Lopez PLC|    1|\n",
      "|     Jennifer Lynch|40.0|       8066.94|              1| 7.11|     11.0|2006-03-28 15:42:45|363 Sandra Lodge ...|       Reed-Martinez|    1|\n",
      "|       Paula Harris|30.0|      11575.37|              1| 5.22|      8.0|2016-11-13 13:13:01|Unit 8120 Box 916...|Briggs, Lamb and ...|    1|\n",
      "|     Bruce Phillips|45.0|       8771.02|              1| 6.64|     11.0|2015-05-28 12:14:03|Unit 1895 Box 094...|    Figueroa-Maynard|    1|\n",
      "|       Craig Garner|45.0|       8988.67|              1| 4.84|     11.0|2011-02-16 08:10:47|897 Kelley Overpa...|     Abbott-Thompson|    1|\n",
      "|       Nicole Olson|40.0|       8283.32|              1|  5.1|     13.0|2012-11-22 05:35:03|11488 Weaver Cape...|Smith, Kim and Ma...|    1|\n",
      "|     Harold Griffin|41.0|       6569.87|              1|  4.3|     11.0|2015-03-28 02:13:44|1774 Peter Row Ap...|Snyder, Lee and M...|    1|\n",
      "|       James Wright|38.0|      10494.82|              1| 6.81|     12.0|2015-07-22 08:38:40|45408 David Path ...|      Sanders-Pierce|    1|\n",
      "|      Doris Wilkins|45.0|       8213.41|              1| 7.35|     11.0|2006-09-03 06:13:55|28216 Wright Moun...|Andrews, Adams an...|    1|\n",
      "|Katherine Carpenter|43.0|      11226.88|              0| 8.08|     12.0|2006-10-22 04:42:38|Unit 4948 Box 481...|Morgan, Phillips ...|    1|\n",
      "|     Lindsay Martin|53.0|       5515.09|              0| 6.85|      8.0|2015-10-07 00:27:10|69203 Crosby Divi...|      Villanueva LLC|    1|\n",
      "|        Kathy Curry|46.0|        8046.4|              1| 5.69|      8.0|2014-11-06 23:47:14|9569 Caldwell Cre...|Berry, Orr and Ca...|    1|\n",
      "+-------------------+----+--------------+---------------+-----+---------+-------------------+--------------------+--------------------+-----+\n",
      "only showing top 20 rows\n",
      "\n"
     ]
    }
   ],
   "source": [
    "data.show()"
   ]
  },
  {
   "cell_type": "code",
   "execution_count": 6,
   "metadata": {},
   "outputs": [
    {
     "data": {
      "text/plain": [
       "['Names',\n",
       " 'Age',\n",
       " 'Total_Purchase',\n",
       " 'Account_Manager',\n",
       " 'Years',\n",
       " 'Num_Sites',\n",
       " 'Onboard_date',\n",
       " 'Location',\n",
       " 'Company',\n",
       " 'Churn']"
      ]
     },
     "execution_count": 6,
     "metadata": {},
     "output_type": "execute_result"
    }
   ],
   "source": [
    "data.columns"
   ]
  },
  {
   "cell_type": "code",
   "execution_count": 5,
   "metadata": {},
   "outputs": [],
   "source": [
    "relevant_data = data.select(['Age','Total_Purchase','Years','Num_Sites','Churn'])"
   ]
  },
  {
   "cell_type": "code",
   "execution_count": 9,
   "metadata": {},
   "outputs": [
    {
     "name": "stderr",
     "output_type": "stream",
     "text": [
      "                                                                                \r"
     ]
    },
    {
     "name": "stdout",
     "output_type": "stream",
     "text": [
      "+----+--------------+-----+---------+-----+\n",
      "| Age|Total_Purchase|Years|Num_Sites|Churn|\n",
      "+----+--------------+-----+---------+-----+\n",
      "|42.0|       11066.8| 7.22|      8.0|    1|\n",
      "|41.0|      11916.22|  6.5|     11.0|    1|\n",
      "|38.0|      12884.75| 6.67|     12.0|    1|\n",
      "|42.0|       8010.76| 6.71|     10.0|    1|\n",
      "|37.0|       9191.58| 5.56|      9.0|    1|\n",
      "|48.0|      10356.02| 5.12|      8.0|    1|\n",
      "|44.0|      11331.58| 5.23|     11.0|    1|\n",
      "|32.0|       9885.12| 6.92|      9.0|    1|\n",
      "|43.0|       14062.6| 5.46|     11.0|    1|\n",
      "|40.0|       8066.94| 7.11|     11.0|    1|\n",
      "|30.0|      11575.37| 5.22|      8.0|    1|\n",
      "|45.0|       8771.02| 6.64|     11.0|    1|\n",
      "|45.0|       8988.67| 4.84|     11.0|    1|\n",
      "|40.0|       8283.32|  5.1|     13.0|    1|\n",
      "|41.0|       6569.87|  4.3|     11.0|    1|\n",
      "|38.0|      10494.82| 6.81|     12.0|    1|\n",
      "|45.0|       8213.41| 7.35|     11.0|    1|\n",
      "|43.0|      11226.88| 8.08|     12.0|    1|\n",
      "|53.0|       5515.09| 6.85|      8.0|    1|\n",
      "|46.0|        8046.4| 5.69|      8.0|    1|\n",
      "+----+--------------+-----+---------+-----+\n",
      "only showing top 20 rows\n",
      "\n"
     ]
    }
   ],
   "source": [
    "relevant_data.show()"
   ]
  },
  {
   "cell_type": "code",
   "execution_count": 6,
   "metadata": {},
   "outputs": [],
   "source": [
    "data_without_null = relevant_data.na.drop()"
   ]
  },
  {
   "cell_type": "code",
   "execution_count": 11,
   "metadata": {},
   "outputs": [
    {
     "name": "stdout",
     "output_type": "stream",
     "text": [
      "+----+--------------+-----+---------+-----+\n",
      "| Age|Total_Purchase|Years|Num_Sites|Churn|\n",
      "+----+--------------+-----+---------+-----+\n",
      "|42.0|       11066.8| 7.22|      8.0|    1|\n",
      "|41.0|      11916.22|  6.5|     11.0|    1|\n",
      "|38.0|      12884.75| 6.67|     12.0|    1|\n",
      "|42.0|       8010.76| 6.71|     10.0|    1|\n",
      "|37.0|       9191.58| 5.56|      9.0|    1|\n",
      "|48.0|      10356.02| 5.12|      8.0|    1|\n",
      "|44.0|      11331.58| 5.23|     11.0|    1|\n",
      "|32.0|       9885.12| 6.92|      9.0|    1|\n",
      "|43.0|       14062.6| 5.46|     11.0|    1|\n",
      "|40.0|       8066.94| 7.11|     11.0|    1|\n",
      "|30.0|      11575.37| 5.22|      8.0|    1|\n",
      "|45.0|       8771.02| 6.64|     11.0|    1|\n",
      "|45.0|       8988.67| 4.84|     11.0|    1|\n",
      "|40.0|       8283.32|  5.1|     13.0|    1|\n",
      "|41.0|       6569.87|  4.3|     11.0|    1|\n",
      "|38.0|      10494.82| 6.81|     12.0|    1|\n",
      "|45.0|       8213.41| 7.35|     11.0|    1|\n",
      "|43.0|      11226.88| 8.08|     12.0|    1|\n",
      "|53.0|       5515.09| 6.85|      8.0|    1|\n",
      "|46.0|        8046.4| 5.69|      8.0|    1|\n",
      "+----+--------------+-----+---------+-----+\n",
      "only showing top 20 rows\n",
      "\n"
     ]
    }
   ],
   "source": [
    "data_without_null.show()"
   ]
  },
  {
   "cell_type": "markdown",
   "metadata": {},
   "source": [
    "## Logistic Regression"
   ]
  },
  {
   "cell_type": "code",
   "execution_count": 7,
   "metadata": {},
   "outputs": [],
   "source": [
    "from pyspark.ml.feature import VectorAssembler\n",
    "assembler = VectorAssembler(inputCols=['Age','Total_Purchase','Years','Num_Sites'], outputCol='features')"
   ]
  },
  {
   "cell_type": "code",
   "execution_count": 8,
   "metadata": {},
   "outputs": [],
   "source": [
    "from pyspark.ml.classification import LogisticRegression\n",
    "lr_model = LogisticRegression(featuresCol='features', labelCol='Churn')"
   ]
  },
  {
   "cell_type": "code",
   "execution_count": 9,
   "metadata": {},
   "outputs": [],
   "source": [
    "from pyspark.ml.pipeline import Pipeline\n",
    "pipeline = Pipeline(stages=[assembler, lr_model])"
   ]
  },
  {
   "cell_type": "code",
   "execution_count": 10,
   "metadata": {},
   "outputs": [],
   "source": [
    "train_data, test_data = data_without_null.randomSplit([0.7, 0.3])"
   ]
  },
  {
   "cell_type": "code",
   "execution_count": 11,
   "metadata": {},
   "outputs": [
    {
     "name": "stderr",
     "output_type": "stream",
     "text": [
      "                                                                                \r"
     ]
    }
   ],
   "source": [
    "model = pipeline.fit(train_data)"
   ]
  },
  {
   "cell_type": "code",
   "execution_count": 12,
   "metadata": {},
   "outputs": [],
   "source": [
    "results = model.transform(test_data)"
   ]
  },
  {
   "cell_type": "code",
   "execution_count": 13,
   "metadata": {},
   "outputs": [],
   "source": [
    "from pyspark.ml.evaluation import BinaryClassificationEvaluator"
   ]
  },
  {
   "cell_type": "code",
   "execution_count": 14,
   "metadata": {},
   "outputs": [],
   "source": [
    "my_evaluator = BinaryClassificationEvaluator(rawPredictionCol='prediction', labelCol='Churn')"
   ]
  },
  {
   "cell_type": "code",
   "execution_count": 15,
   "metadata": {},
   "outputs": [
    {
     "name": "stdout",
     "output_type": "stream",
     "text": [
      "+----------+-----+\n",
      "|prediction|Churn|\n",
      "+----------+-----+\n",
      "|       0.0|    1|\n",
      "|       0.0|    0|\n",
      "|       0.0|    0|\n",
      "|       0.0|    0|\n",
      "|       0.0|    0|\n",
      "|       0.0|    0|\n",
      "|       0.0|    0|\n",
      "|       0.0|    0|\n",
      "|       0.0|    0|\n",
      "|       0.0|    0|\n",
      "|       0.0|    0|\n",
      "|       0.0|    0|\n",
      "|       0.0|    0|\n",
      "|       1.0|    0|\n",
      "|       0.0|    0|\n",
      "|       0.0|    0|\n",
      "|       0.0|    0|\n",
      "|       0.0|    0|\n",
      "|       0.0|    0|\n",
      "|       0.0|    0|\n",
      "+----------+-----+\n",
      "only showing top 20 rows\n",
      "\n"
     ]
    }
   ],
   "source": [
    "results.select(['prediction', 'Churn']).show()"
   ]
  },
  {
   "cell_type": "code",
   "execution_count": 24,
   "metadata": {},
   "outputs": [
    {
     "data": {
      "text/plain": [
       "[Row(Age=22.0, Total_Purchase=11254.38, Years=4.96, Num_Sites=8.0, Churn=0, features=DenseVector([22.0, 11254.38, 4.96, 8.0]), rawPrediction=DenseVector([4.7716, -4.7716]), probability=DenseVector([0.9916, 0.0084]), prediction=0.0),\n",
       " Row(Age=28.0, Total_Purchase=8670.98, Years=3.99, Num_Sites=6.0, Churn=0, features=DenseVector([28.0, 8670.98, 3.99, 6.0]), rawPrediction=DenseVector([7.4008, -7.4008]), probability=DenseVector([0.9994, 0.0006]), prediction=0.0),\n",
       " Row(Age=28.0, Total_Purchase=11204.23, Years=3.67, Num_Sites=11.0, Churn=0, features=DenseVector([28.0, 11204.23, 3.67, 11.0]), rawPrediction=DenseVector([1.7893, -1.7893]), probability=DenseVector([0.8568, 0.1432]), prediction=0.0),\n",
       " Row(Age=28.0, Total_Purchase=11245.38, Years=6.72, Num_Sites=8.0, Churn=0, features=DenseVector([28.0, 11245.38, 6.72, 8.0]), rawPrediction=DenseVector([3.3331, -3.3331]), probability=DenseVector([0.9655, 0.0345]), prediction=0.0),\n",
       " Row(Age=30.0, Total_Purchase=7960.64, Years=2.72, Num_Sites=10.0, Churn=1, features=DenseVector([30.0, 7960.64, 2.72, 10.0]), rawPrediction=DenseVector([3.5773, -3.5773]), probability=DenseVector([0.9728, 0.0272]), prediction=0.0),\n",
       " Row(Age=30.0, Total_Purchase=11575.37, Years=5.22, Num_Sites=8.0, Churn=1, features=DenseVector([30.0, 11575.37, 5.22, 8.0]), rawPrediction=DenseVector([4.0864, -4.0864]), probability=DenseVector([0.9835, 0.0165]), prediction=0.0),\n",
       " Row(Age=31.0, Total_Purchase=5304.6, Years=5.29, Num_Sites=9.0, Churn=0, features=DenseVector([31.0, 5304.6, 5.29, 9.0]), rawPrediction=DenseVector([3.2724, -3.2724]), probability=DenseVector([0.9635, 0.0365]), prediction=0.0),\n",
       " Row(Age=31.0, Total_Purchase=5387.75, Years=6.83, Num_Sites=9.0, Churn=0, features=DenseVector([31.0, 5387.75, 6.83, 9.0]), rawPrediction=DenseVector([2.3407, -2.3407]), probability=DenseVector([0.9122, 0.0878]), prediction=0.0),\n",
       " Row(Age=31.0, Total_Purchase=9574.89, Years=7.34, Num_Sites=8.0, Churn=0, features=DenseVector([31.0, 9574.89, 7.34, 8.0]), rawPrediction=DenseVector([2.8815, -2.8815]), probability=DenseVector([0.9469, 0.0531]), prediction=0.0),\n",
       " Row(Age=31.0, Total_Purchase=10058.87, Years=6.54, Num_Sites=7.0, Churn=0, features=DenseVector([31.0, 10058.87, 6.54, 7.0]), rawPrediction=DenseVector([4.4573, -4.4573]), probability=DenseVector([0.9885, 0.0115]), prediction=0.0),\n",
       " Row(Age=31.0, Total_Purchase=10182.6, Years=3.77, Num_Sites=8.0, Churn=0, features=DenseVector([31.0, 10182.6, 3.77, 8.0]), rawPrediction=DenseVector([4.988, -4.988]), probability=DenseVector([0.9932, 0.0068]), prediction=0.0),\n",
       " Row(Age=32.0, Total_Purchase=5756.12, Years=5.9, Num_Sites=8.0, Churn=0, features=DenseVector([32.0, 5756.12, 5.9, 8.0]), rawPrediction=DenseVector([3.939, -3.939]), probability=DenseVector([0.9809, 0.0191]), prediction=0.0),\n",
       " Row(Age=32.0, Total_Purchase=8575.71, Years=4.26, Num_Sites=9.0, Churn=0, features=DenseVector([32.0, 8575.71, 4.26, 9.0]), rawPrediction=DenseVector([3.6102, -3.6102]), probability=DenseVector([0.9737, 0.0263]), prediction=0.0),\n",
       " Row(Age=32.0, Total_Purchase=9885.12, Years=6.92, Num_Sites=9.0, Churn=1, features=DenseVector([32.0, 9885.12, 6.92, 9.0]), rawPrediction=DenseVector([1.923, -1.923]), probability=DenseVector([0.8725, 0.1275]), prediction=0.0),\n",
       " Row(Age=32.0, Total_Purchase=10716.75, Years=5.12, Num_Sites=8.0, Churn=0, features=DenseVector([32.0, 10716.75, 5.12, 8.0]), rawPrediction=DenseVector([4.077, -4.077]), probability=DenseVector([0.9833, 0.0167]), prediction=0.0),\n",
       " Row(Age=32.0, Total_Purchase=11540.86, Years=3.0, Num_Sites=7.0, Churn=0, features=DenseVector([32.0, 11540.86, 3.0, 7.0]), rawPrediction=DenseVector([6.424, -6.424]), probability=DenseVector([0.9984, 0.0016]), prediction=0.0),\n",
       " Row(Age=32.0, Total_Purchase=11715.72, Years=4.73, Num_Sites=9.0, Churn=0, features=DenseVector([32.0, 11715.72, 4.73, 9.0]), rawPrediction=DenseVector([3.1179, -3.1179]), probability=DenseVector([0.9576, 0.0424]), prediction=0.0),\n",
       " Row(Age=32.0, Total_Purchase=12254.75, Years=5.32, Num_Sites=9.0, Churn=0, features=DenseVector([32.0, 12254.75, 5.32, 9.0]), rawPrediction=DenseVector([2.7271, -2.7271]), probability=DenseVector([0.9386, 0.0614]), prediction=0.0),\n",
       " Row(Age=32.0, Total_Purchase=12403.6, Years=4.99, Num_Sites=7.0, Churn=0, features=DenseVector([32.0, 12403.6, 4.99, 7.0]), rawPrediction=DenseVector([5.1696, -5.1696]), probability=DenseVector([0.9943, 0.0057]), prediction=0.0),\n",
       " Row(Age=33.0, Total_Purchase=7720.61, Years=4.97, Num_Sites=10.0, Churn=0, features=DenseVector([33.0, 7720.61, 4.97, 10.0]), rawPrediction=DenseVector([2.0498, -2.0498]), probability=DenseVector([0.8859, 0.1141]), prediction=0.0),\n",
       " Row(Age=33.0, Total_Purchase=7750.54, Years=4.57, Num_Sites=8.0, Churn=0, features=DenseVector([33.0, 7750.54, 4.57, 8.0]), rawPrediction=DenseVector([4.5423, -4.5423]), probability=DenseVector([0.9895, 0.0105]), prediction=0.0),\n",
       " Row(Age=33.0, Total_Purchase=10306.21, Years=6.36, Num_Sites=9.0, Churn=0, features=DenseVector([33.0, 10306.21, 6.36, 9.0]), rawPrediction=DenseVector([2.1683, -2.1683]), probability=DenseVector([0.8974, 0.1026]), prediction=0.0),\n",
       " Row(Age=33.0, Total_Purchase=10309.71, Years=2.96, Num_Sites=7.0, Churn=0, features=DenseVector([33.0, 10309.71, 2.96, 7.0]), rawPrediction=DenseVector([6.4668, -6.4668]), probability=DenseVector([0.9984, 0.0016]), prediction=0.0),\n",
       " Row(Age=33.0, Total_Purchase=11370.28, Years=4.4, Num_Sites=6.0, Churn=0, features=DenseVector([33.0, 11370.28, 4.4, 6.0]), rawPrediction=DenseVector([6.657, -6.657]), probability=DenseVector([0.9987, 0.0013]), prediction=0.0),\n",
       " Row(Age=34.0, Total_Purchase=9401.99, Years=8.25, Num_Sites=9.0, Churn=0, features=DenseVector([34.0, 9401.99, 8.25, 9.0]), rawPrediction=DenseVector([1.0285, -1.0285]), probability=DenseVector([0.7366, 0.2634]), prediction=0.0),\n",
       " Row(Age=34.0, Total_Purchase=9779.12, Years=5.89, Num_Sites=9.0, Churn=0, features=DenseVector([34.0, 9779.12, 5.89, 9.0]), rawPrediction=DenseVector([2.4227, -2.4227]), probability=DenseVector([0.9185, 0.0815]), prediction=0.0),\n",
       " Row(Age=34.0, Total_Purchase=9845.35, Years=4.82, Num_Sites=7.0, Churn=0, features=DenseVector([34.0, 9845.35, 4.82, 7.0]), rawPrediction=DenseVector([5.3157, -5.3157]), probability=DenseVector([0.9951, 0.0049]), prediction=0.0),\n",
       " Row(Age=34.0, Total_Purchase=10466.56, Years=5.34, Num_Sites=7.0, Churn=0, features=DenseVector([34.0, 10466.56, 5.34, 7.0]), rawPrediction=DenseVector([4.9615, -4.9615]), probability=DenseVector([0.993, 0.007]), prediction=0.0),\n",
       " Row(Age=34.0, Total_Purchase=11687.29, Years=4.54, Num_Sites=7.0, Churn=0, features=DenseVector([34.0, 11687.29, 4.54, 7.0]), rawPrediction=DenseVector([5.3612, -5.3612]), probability=DenseVector([0.9953, 0.0047]), prediction=0.0),\n",
       " Row(Age=34.0, Total_Purchase=12760.01, Years=3.87, Num_Sites=8.0, Churn=0, features=DenseVector([34.0, 12760.01, 3.87, 8.0]), rawPrediction=DenseVector([4.5656, -4.5656]), probability=DenseVector([0.9897, 0.0103]), prediction=0.0),\n",
       " Row(Age=34.0, Total_Purchase=12813.91, Years=2.41, Num_Sites=7.0, Churn=0, features=DenseVector([34.0, 12813.91, 2.41, 7.0]), rawPrediction=DenseVector([6.5671, -6.5671]), probability=DenseVector([0.9986, 0.0014]), prediction=0.0),\n",
       " Row(Age=34.0, Total_Purchase=12983.26, Years=6.53, Num_Sites=13.0, Churn=1, features=DenseVector([34.0, 12983.26, 6.53, 13.0]), rawPrediction=DenseVector([-2.684, 2.684]), probability=DenseVector([0.0639, 0.9361]), prediction=1.0),\n",
       " Row(Age=34.0, Total_Purchase=13574.25, Years=5.2, Num_Sites=9.0, Churn=0, features=DenseVector([34.0, 13574.25, 5.2, 9.0]), rawPrediction=DenseVector([2.5844, -2.5844]), probability=DenseVector([0.9299, 0.0701]), prediction=0.0),\n",
       " Row(Age=34.0, Total_Purchase=13672.54, Years=6.05, Num_Sites=6.0, Churn=0, features=DenseVector([34.0, 13672.54, 6.05, 6.0]), rawPrediction=DenseVector([5.4476, -5.4476]), probability=DenseVector([0.9957, 0.0043]), prediction=0.0),\n",
       " Row(Age=35.0, Total_Purchase=6683.82, Years=7.82, Num_Sites=7.0, Churn=0, features=DenseVector([35.0, 6683.82, 7.82, 7.0]), rawPrediction=DenseVector([3.659, -3.659]), probability=DenseVector([0.9749, 0.0251]), prediction=0.0),\n",
       " Row(Age=35.0, Total_Purchase=7361.92, Years=4.97, Num_Sites=9.0, Churn=0, features=DenseVector([35.0, 7361.92, 4.97, 9.0]), rawPrediction=DenseVector([3.0739, -3.0739]), probability=DenseVector([0.9558, 0.0442]), prediction=0.0),\n",
       " Row(Age=35.0, Total_Purchase=8058.73, Years=6.88, Num_Sites=9.0, Churn=0, features=DenseVector([35.0, 8058.73, 6.88, 9.0]), rawPrediction=DenseVector([1.8786, -1.8786]), probability=DenseVector([0.8675, 0.1325]), prediction=0.0),\n",
       " Row(Age=35.0, Total_Purchase=8297.87, Years=5.42, Num_Sites=8.0, Churn=0, features=DenseVector([35.0, 8297.87, 5.42, 8.0]), rawPrediction=DenseVector([3.8678, -3.8678]), probability=DenseVector([0.9795, 0.0205]), prediction=0.0),\n",
       " Row(Age=35.0, Total_Purchase=12398.62, Years=5.6, Num_Sites=9.0, Churn=0, features=DenseVector([35.0, 12398.62, 5.6, 9.0]), rawPrediction=DenseVector([2.3589, -2.3589]), probability=DenseVector([0.9136, 0.0864]), prediction=0.0),\n",
       " Row(Age=35.0, Total_Purchase=12654.35, Years=1.66, Num_Sites=7.0, Churn=0, features=DenseVector([35.0, 12654.35, 1.66, 7.0]), rawPrediction=DenseVector([6.9654, -6.9654]), probability=DenseVector([0.9991, 0.0009]), prediction=0.0),\n",
       " Row(Age=35.0, Total_Purchase=13480.91, Years=4.41, Num_Sites=7.0, Churn=0, features=DenseVector([35.0, 13480.91, 4.41, 7.0]), rawPrediction=DenseVector([5.2563, -5.2563]), probability=DenseVector([0.9948, 0.0052]), prediction=0.0),\n",
       " Row(Age=35.0, Total_Purchase=13680.25, Years=5.79, Num_Sites=9.0, Churn=0, features=DenseVector([35.0, 13680.25, 5.79, 9.0]), rawPrediction=DenseVector([2.1591, -2.1591]), probability=DenseVector([0.8965, 0.1035]), prediction=0.0),\n",
       " Row(Age=36.0, Total_Purchase=5695.21, Years=4.1, Num_Sites=7.0, Churn=0, features=DenseVector([36.0, 5695.21, 4.1, 7.0]), rawPrediction=DenseVector([5.8989, -5.8989]), probability=DenseVector([0.9973, 0.0027]), prediction=0.0),\n",
       " Row(Age=36.0, Total_Purchase=6447.99, Years=5.52, Num_Sites=11.0, Churn=1, features=DenseVector([36.0, 6447.99, 5.52, 11.0]), rawPrediction=DenseVector([0.4867, -0.4867]), probability=DenseVector([0.6193, 0.3807]), prediction=0.0),\n",
       " Row(Age=36.0, Total_Purchase=7342.14, Years=5.51, Num_Sites=8.0, Churn=0, features=DenseVector([36.0, 7342.14, 5.51, 8.0]), rawPrediction=DenseVector([3.814, -3.814]), probability=DenseVector([0.9784, 0.0216]), prediction=0.0),\n",
       " Row(Age=36.0, Total_Purchase=8233.25, Years=4.35, Num_Sites=7.0, Churn=0, features=DenseVector([36.0, 8233.25, 4.35, 7.0]), rawPrediction=DenseVector([5.5792, -5.5792]), probability=DenseVector([0.9962, 0.0038]), prediction=0.0),\n",
       " Row(Age=36.0, Total_Purchase=9793.42, Years=5.98, Num_Sites=9.0, Churn=1, features=DenseVector([36.0, 9793.42, 5.98, 9.0]), rawPrediction=DenseVector([2.2408, -2.2408]), probability=DenseVector([0.9039, 0.0961]), prediction=0.0),\n",
       " Row(Age=36.0, Total_Purchase=9993.5, Years=6.6, Num_Sites=6.0, Churn=0, features=DenseVector([36.0, 9993.5, 6.6, 6.0]), rawPrediction=DenseVector([5.2354, -5.2354]), probability=DenseVector([0.9947, 0.0053]), prediction=0.0),\n",
       " Row(Age=36.0, Total_Purchase=10345.19, Years=4.84, Num_Sites=10.0, Churn=0, features=DenseVector([36.0, 10345.19, 4.84, 10.0]), rawPrediction=DenseVector([1.7626, -1.7626]), probability=DenseVector([0.8535, 0.1465]), prediction=0.0),\n",
       " Row(Age=36.0, Total_Purchase=10484.33, Years=8.84, Num_Sites=10.0, Churn=1, features=DenseVector([36.0, 10484.33, 8.84, 10.0]), rawPrediction=DenseVector([-0.6524, 0.6524]), probability=DenseVector([0.3424, 0.6576]), prediction=1.0)]"
      ]
     },
     "execution_count": 24,
     "metadata": {},
     "output_type": "execute_result"
    }
   ],
   "source": [
    "results.head(50)"
   ]
  },
  {
   "cell_type": "code",
   "execution_count": 16,
   "metadata": {},
   "outputs": [
    {
     "name": "stderr",
     "output_type": "stream",
     "text": [
      "                                                                                \r"
     ]
    }
   ],
   "source": [
    "AUC = my_evaluator.evaluate(results)"
   ]
  },
  {
   "cell_type": "code",
   "execution_count": 17,
   "metadata": {},
   "outputs": [
    {
     "data": {
      "text/plain": [
       "0.7317351598173516"
      ]
     },
     "execution_count": 17,
     "metadata": {},
     "output_type": "execute_result"
    }
   ],
   "source": [
    "AUC"
   ]
  },
  {
   "cell_type": "code",
   "execution_count": 18,
   "metadata": {},
   "outputs": [],
   "source": [
    "new_data = spark.read.csv('new_customers.csv', header=True, inferSchema=True)"
   ]
  },
  {
   "cell_type": "code",
   "execution_count": 19,
   "metadata": {},
   "outputs": [
    {
     "name": "stdout",
     "output_type": "stream",
     "text": [
      "root\n",
      " |-- Names: string (nullable = true)\n",
      " |-- Age: double (nullable = true)\n",
      " |-- Total_Purchase: double (nullable = true)\n",
      " |-- Account_Manager: integer (nullable = true)\n",
      " |-- Years: double (nullable = true)\n",
      " |-- Num_Sites: double (nullable = true)\n",
      " |-- Onboard_date: timestamp (nullable = true)\n",
      " |-- Location: string (nullable = true)\n",
      " |-- Company: string (nullable = true)\n",
      "\n"
     ]
    }
   ],
   "source": [
    "new_data.printSchema()"
   ]
  },
  {
   "cell_type": "code",
   "execution_count": 20,
   "metadata": {},
   "outputs": [],
   "source": [
    "relevant_new_data = new_data.select(['Age','Total_Purchase','Years','Num_Sites'])"
   ]
  },
  {
   "cell_type": "code",
   "execution_count": 21,
   "metadata": {},
   "outputs": [],
   "source": [
    "new_data_without_null = relevant_new_data.na.drop()"
   ]
  },
  {
   "cell_type": "code",
   "execution_count": 23,
   "metadata": {},
   "outputs": [
    {
     "name": "stdout",
     "output_type": "stream",
     "text": [
      "+----+--------------+-----+---------+\n",
      "| Age|Total_Purchase|Years|Num_Sites|\n",
      "+----+--------------+-----+---------+\n",
      "|37.0|       9935.53| 7.71|      8.0|\n",
      "|23.0|       7526.94| 9.28|     15.0|\n",
      "|65.0|         100.0|  1.0|     15.0|\n",
      "|32.0|        6487.5|  9.4|     14.0|\n",
      "|32.0|      13147.71| 10.0|      8.0|\n",
      "|22.0|       8445.26| 3.46|     14.0|\n",
      "+----+--------------+-----+---------+\n",
      "\n"
     ]
    }
   ],
   "source": [
    "new_data_without_null.show()"
   ]
  },
  {
   "cell_type": "code",
   "execution_count": 24,
   "metadata": {},
   "outputs": [],
   "source": [
    "new_results = model.transform(new_data_without_null)"
   ]
  },
  {
   "cell_type": "code",
   "execution_count": 25,
   "metadata": {},
   "outputs": [
    {
     "name": "stdout",
     "output_type": "stream",
     "text": [
      "+----+--------------+-----+---------+--------------------+--------------------+--------------------+----------+\n",
      "| Age|Total_Purchase|Years|Num_Sites|            features|       rawPrediction|         probability|prediction|\n",
      "+----+--------------+-----+---------+--------------------+--------------------+--------------------+----------+\n",
      "|37.0|       9935.53| 7.71|      8.0|[37.0,9935.53,7.7...|[2.41042080493816...|[0.91761849812381...|       0.0|\n",
      "|23.0|       7526.94| 9.28|     15.0|[23.0,7526.94,9.2...|[-6.2012561873088...|[0.00202278294769...|       1.0|\n",
      "|65.0|         100.0|  1.0|     15.0|[65.0,100.0,1.0,1...|[-3.4419470089084...|[0.03100992637852...|       1.0|\n",
      "|32.0|        6487.5|  9.4|     14.0|[32.0,6487.5,9.4,...|[-5.6391724970495...|[0.00354321064952...|       1.0|\n",
      "|32.0|      13147.71| 10.0|      8.0|[32.0,13147.71,10...|[1.21993210268943...|[0.77205160054059...|       0.0|\n",
      "|22.0|       8445.26| 3.46|     14.0|[22.0,8445.26,3.4...|[-1.1187200286093...|[0.24624878227916...|       1.0|\n",
      "+----+--------------+-----+---------+--------------------+--------------------+--------------------+----------+\n",
      "\n"
     ]
    }
   ],
   "source": [
    "new_results.show()"
   ]
  },
  {
   "cell_type": "code",
   "execution_count": 27,
   "metadata": {},
   "outputs": [
    {
     "name": "stdout",
     "output_type": "stream",
     "text": [
      "+----+--------------+-----+---------+--------------------+--------------------+--------------------+----------+---------------+\n",
      "| Age|Total_Purchase|Years|Num_Sites|            features|       rawPrediction|         probability|prediction|Account Manager|\n",
      "+----+--------------+-----+---------+--------------------+--------------------+--------------------+----------+---------------+\n",
      "|37.0|       9935.53| 7.71|      8.0|[37.0,9935.53,7.7...|[2.41042080493816...|[0.91761849812381...|       0.0|            0.0|\n",
      "|23.0|       7526.94| 9.28|     15.0|[23.0,7526.94,9.2...|[-6.2012561873088...|[0.00202278294769...|       1.0|            1.0|\n",
      "|65.0|         100.0|  1.0|     15.0|[65.0,100.0,1.0,1...|[-3.4419470089084...|[0.03100992637852...|       1.0|            1.0|\n",
      "|32.0|        6487.5|  9.4|     14.0|[32.0,6487.5,9.4,...|[-5.6391724970495...|[0.00354321064952...|       1.0|            1.0|\n",
      "|32.0|      13147.71| 10.0|      8.0|[32.0,13147.71,10...|[1.21993210268943...|[0.77205160054059...|       0.0|            0.0|\n",
      "|22.0|       8445.26| 3.46|     14.0|[22.0,8445.26,3.4...|[-1.1187200286093...|[0.24624878227916...|       1.0|            1.0|\n",
      "+----+--------------+-----+---------+--------------------+--------------------+--------------------+----------+---------------+\n",
      "\n"
     ]
    }
   ],
   "source": [
    "new_results.withColumn('Account Manager', new_results['prediction']).show()"
   ]
  },
  {
   "cell_type": "code",
   "execution_count": null,
   "metadata": {},
   "outputs": [],
   "source": []
  }
 ],
 "metadata": {
  "anaconda-cloud": {},
  "kernelspec": {
   "display_name": "Python 3 (ipykernel)",
   "language": "python",
   "name": "python3"
  },
  "language_info": {
   "codemirror_mode": {
    "name": "ipython",
    "version": 3
   },
   "file_extension": ".py",
   "mimetype": "text/x-python",
   "name": "python",
   "nbconvert_exporter": "python",
   "pygments_lexer": "ipython3",
   "version": "3.10.12"
  }
 },
 "nbformat": 4,
 "nbformat_minor": 4
}
